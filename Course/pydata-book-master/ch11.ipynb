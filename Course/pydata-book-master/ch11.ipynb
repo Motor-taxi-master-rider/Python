{
 "cells": [
  {
   "cell_type": "markdown",
   "metadata": {},
   "source": [
    "# Financial and Economic Data Applications"
   ]
  },
  {
   "cell_type": "code",
   "execution_count": 1,
   "metadata": {
    "collapsed": false
   },
   "outputs": [],
   "source": [
    "from __future__ import division\n",
    "from pandas import Series, DataFrame\n",
    "import pandas as pd\n",
    "from numpy.random import randn\n",
    "import numpy as np\n",
    "pd.options.display.max_rows = 12\n",
    "np.set_printoptions(precision=4, suppress=True)\n",
    "import matplotlib.pyplot as plt\n",
    "plt.rc('figure', figsize=(12, 6))"
   ]
  },
  {
   "cell_type": "code",
   "execution_count": 2,
   "metadata": {
    "collapsed": false
   },
   "outputs": [],
   "source": [
    "%matplotlib inline"
   ]
  },
  {
   "cell_type": "code",
   "execution_count": 3,
   "metadata": {
    "collapsed": false
   },
   "outputs": [
    {
     "data": {
      "text/plain": [
       "'C:\\\\My files\\\\TRAINING\\\\Course\\\\Python\\\\pydata-book-master'"
      ]
     },
     "execution_count": 3,
     "metadata": {},
     "output_type": "execute_result"
    }
   ],
   "source": [
    "%pwd"
   ]
  },
  {
   "cell_type": "markdown",
   "metadata": {},
   "source": [
    "## Data munging topics"
   ]
  },
  {
   "cell_type": "markdown",
   "metadata": {},
   "source": [
    "### Time series and cross-section alignment"
   ]
  },
  {
   "cell_type": "code",
   "execution_count": 4,
   "metadata": {
    "collapsed": false
   },
   "outputs": [],
   "source": [
    "close_px = pd.read_csv('ch11/stock_px.csv', parse_dates=True, index_col=0)\n",
    "volume = pd.read_csv('ch11/volume.csv', parse_dates=True, index_col=0)\n",
    "prices = close_px.ix['2011-09-05':'2011-09-14', ['AAPL', 'JNJ', 'SPX', 'XOM']]\n",
    "volume = volume.ix['2011-09-05':'2011-09-12', ['AAPL', 'JNJ', 'XOM']]"
   ]
  },
  {
   "cell_type": "code",
   "execution_count": null,
   "metadata": {
    "collapsed": false
   },
   "outputs": [],
   "source": [
    "prices"
   ]
  },
  {
   "cell_type": "code",
   "execution_count": null,
   "metadata": {
    "collapsed": false
   },
   "outputs": [],
   "source": [
    "volume"
   ]
  },
  {
   "cell_type": "code",
   "execution_count": null,
   "metadata": {
    "collapsed": false
   },
   "outputs": [],
   "source": [
    "prices * volume"
   ]
  },
  {
   "cell_type": "code",
   "execution_count": null,
   "metadata": {
    "collapsed": false
   },
   "outputs": [],
   "source": [
    "vwap = (prices * volume).sum() / volume.sum()"
   ]
  },
  {
   "cell_type": "code",
   "execution_count": null,
   "metadata": {
    "collapsed": false
   },
   "outputs": [],
   "source": [
    "vwap"
   ]
  },
  {
   "cell_type": "code",
   "execution_count": null,
   "metadata": {
    "collapsed": false
   },
   "outputs": [],
   "source": [
    "vwap.dropna()"
   ]
  },
  {
   "cell_type": "code",
   "execution_count": null,
   "metadata": {
    "collapsed": false
   },
   "outputs": [],
   "source": [
    "prices.align(volume, join='inner')"
   ]
  },
  {
   "cell_type": "code",
   "execution_count": null,
   "metadata": {
    "collapsed": false
   },
   "outputs": [],
   "source": [
    "s1 = Series(range(3), index=['a', 'b', 'c'])\n",
    "s2 = Series(range(4), index=['d', 'b', 'c', 'e'])\n",
    "s3 = Series(range(3), index=['f', 'a', 'c'])\n",
    "DataFrame({'one': s1, 'two': s2, 'three': s3})"
   ]
  },
  {
   "cell_type": "code",
   "execution_count": null,
   "metadata": {
    "collapsed": false
   },
   "outputs": [],
   "source": [
    "DataFrame({'one': s1, 'two': s2, 'three': s3}, index=list('face'))"
   ]
  },
  {
   "cell_type": "markdown",
   "metadata": {},
   "source": [
    "### Operations with time series of different frequencies"
   ]
  },
  {
   "cell_type": "code",
   "execution_count": 13,
   "metadata": {
    "collapsed": false
   },
   "outputs": [
    {
     "data": {
      "text/plain": [
       "2012-06-13    0.374243\n",
       "2012-06-20   -0.862031\n",
       "2012-06-27    0.193486\n",
       "Freq: W-WED, dtype: float64"
      ]
     },
     "execution_count": 13,
     "metadata": {},
     "output_type": "execute_result"
    }
   ],
   "source": [
    "ts1 = Series(np.random.randn(3),\n",
    "             index=pd.date_range('2012-6-13', periods=3, freq='W-WED'))\n",
    "ts1"
   ]
  },
  {
   "cell_type": "code",
   "execution_count": 14,
   "metadata": {
    "collapsed": false
   },
   "outputs": [
    {
     "data": {
      "text/plain": [
       "DatetimeIndexResampler [freq=<BusinessDay>, axis=0, closed=left, label=left, convention=start, base=0]"
      ]
     },
     "execution_count": 14,
     "metadata": {},
     "output_type": "execute_result"
    }
   ],
   "source": [
    "ts1.resample('B')"
   ]
  },
  {
   "cell_type": "code",
   "execution_count": 15,
   "metadata": {
    "collapsed": false
   },
   "outputs": [
    {
     "name": "stderr",
     "output_type": "stream",
     "text": [
      "c:\\users\\chu060\\appdata\\local\\programs\\python\\python35-32\\lib\\site-packages\\ipykernel\\__main__.py:1: FutureWarning: fill_method is deprecated to .resample()\n",
      "the new syntax is .resample(...).ffill()\n",
      "  if __name__ == '__main__':\n"
     ]
    },
    {
     "data": {
      "text/plain": [
       "2012-06-13    0.374243\n",
       "2012-06-14    0.374243\n",
       "2012-06-15    0.374243\n",
       "2012-06-18    0.374243\n",
       "2012-06-19    0.374243\n",
       "2012-06-20   -0.862031\n",
       "2012-06-21   -0.862031\n",
       "2012-06-22   -0.862031\n",
       "2012-06-25   -0.862031\n",
       "2012-06-26   -0.862031\n",
       "2012-06-27    0.193486\n",
       "Freq: B, dtype: float64"
      ]
     },
     "execution_count": 15,
     "metadata": {},
     "output_type": "execute_result"
    }
   ],
   "source": [
    "ts1.resample('B', fill_method='ffill')"
   ]
  },
  {
   "cell_type": "code",
   "execution_count": 16,
   "metadata": {
    "collapsed": false
   },
   "outputs": [
    {
     "data": {
      "text/plain": [
       "2012-06-12    1.683905\n",
       "2012-06-17    1.641518\n",
       "2012-06-18   -0.587771\n",
       "2012-06-21   -0.902707\n",
       "2012-06-22   -1.358595\n",
       "2012-06-29   -0.605899\n",
       "dtype: float64"
      ]
     },
     "execution_count": 16,
     "metadata": {},
     "output_type": "execute_result"
    }
   ],
   "source": [
    "dates = pd.DatetimeIndex(['2012-6-12', '2012-6-17', '2012-6-18',\n",
    "                          '2012-6-21', '2012-6-22', '2012-6-29'])\n",
    "ts2 = Series(np.random.randn(6), index=dates)\n",
    "ts2"
   ]
  },
  {
   "cell_type": "code",
   "execution_count": 17,
   "metadata": {
    "collapsed": false
   },
   "outputs": [
    {
     "data": {
      "text/plain": [
       "2012-06-12         NaN\n",
       "2012-06-17    0.374243\n",
       "2012-06-18    0.374243\n",
       "2012-06-21   -0.862031\n",
       "2012-06-22   -0.862031\n",
       "2012-06-29    0.193486\n",
       "dtype: float64"
      ]
     },
     "execution_count": 17,
     "metadata": {},
     "output_type": "execute_result"
    }
   ],
   "source": [
    "ts1.reindex(ts2.index, method='ffill')"
   ]
  },
  {
   "cell_type": "code",
   "execution_count": null,
   "metadata": {
    "collapsed": false
   },
   "outputs": [],
   "source": [
    "ts2 + ts1.reindex(ts2.index, method='ffill')"
   ]
  },
  {
   "cell_type": "markdown",
   "metadata": {},
   "source": [
    "#### Using periods instead of timestamps"
   ]
  },
  {
   "cell_type": "code",
   "execution_count": 6,
   "metadata": {
    "collapsed": false
   },
   "outputs": [
    {
     "data": {
      "text/plain": [
       "1984Q2    1.78\n",
       "1984Q3    1.94\n",
       "1984Q4    2.08\n",
       "1985Q1    2.01\n",
       "1985Q2    2.15\n",
       "1985Q3    2.31\n",
       "1985Q4    2.46\n",
       "Freq: Q-SEP, dtype: float64"
      ]
     },
     "execution_count": 6,
     "metadata": {},
     "output_type": "execute_result"
    }
   ],
   "source": [
    "gdp = Series([1.78, 1.94, 2.08, 2.01, 2.15, 2.31, 2.46],\n",
    "             index=pd.period_range('1984Q2', periods=7, freq='Q-SEP'))\n",
    "infl = Series([0.025, 0.045, 0.037, 0.04],\n",
    "              index=pd.period_range('1982', periods=4, freq='A-DEC'))\n",
    "gdp"
   ]
  },
  {
   "cell_type": "code",
   "execution_count": 7,
   "metadata": {
    "collapsed": false
   },
   "outputs": [
    {
     "data": {
      "text/plain": [
       "1982    0.025\n",
       "1983    0.045\n",
       "1984    0.037\n",
       "1985    0.040\n",
       "Freq: A-DEC, dtype: float64"
      ]
     },
     "execution_count": 7,
     "metadata": {},
     "output_type": "execute_result"
    }
   ],
   "source": [
    "infl"
   ]
  },
  {
   "cell_type": "code",
   "execution_count": 8,
   "metadata": {
    "collapsed": false
   },
   "outputs": [],
   "source": [
    "infl_q = infl.asfreq('Q-SEP', how='end')"
   ]
  },
  {
   "cell_type": "code",
   "execution_count": 9,
   "metadata": {
    "collapsed": false
   },
   "outputs": [
    {
     "data": {
      "text/plain": [
       "1983Q1    0.025\n",
       "1984Q1    0.045\n",
       "1985Q1    0.037\n",
       "1986Q1    0.040\n",
       "Freq: Q-SEP, dtype: float64"
      ]
     },
     "execution_count": 9,
     "metadata": {},
     "output_type": "execute_result"
    }
   ],
   "source": [
    "infl_q"
   ]
  },
  {
   "cell_type": "code",
   "execution_count": 10,
   "metadata": {
    "collapsed": false
   },
   "outputs": [
    {
     "data": {
      "text/plain": [
       "1984Q2    0.045\n",
       "1984Q3    0.045\n",
       "1984Q4    0.045\n",
       "1985Q1    0.037\n",
       "1985Q2    0.037\n",
       "1985Q3    0.037\n",
       "1985Q4    0.037\n",
       "Freq: Q-SEP, dtype: float64"
      ]
     },
     "execution_count": 10,
     "metadata": {},
     "output_type": "execute_result"
    }
   ],
   "source": [
    "infl_q.reindex(gdp.index, method='ffill')"
   ]
  },
  {
   "cell_type": "markdown",
   "metadata": {},
   "source": [
    "### Time of day and \"as of\" data selection"
   ]
  },
  {
   "cell_type": "code",
   "execution_count": 18,
   "metadata": {
    "collapsed": false
   },
   "outputs": [
    {
     "data": {
      "text/plain": [
       "2012-06-01 09:30:00       0.0\n",
       "2012-06-01 09:31:00       1.0\n",
       "2012-06-01 09:32:00       2.0\n",
       "2012-06-01 09:33:00       3.0\n",
       "2012-06-01 09:34:00       4.0\n",
       "2012-06-01 09:35:00       5.0\n",
       "                        ...  \n",
       "2012-06-06 15:54:00    1554.0\n",
       "2012-06-06 15:55:00    1555.0\n",
       "2012-06-06 15:56:00    1556.0\n",
       "2012-06-06 15:57:00    1557.0\n",
       "2012-06-06 15:58:00    1558.0\n",
       "2012-06-06 15:59:00    1559.0\n",
       "dtype: float64"
      ]
     },
     "execution_count": 18,
     "metadata": {},
     "output_type": "execute_result"
    }
   ],
   "source": [
    "# Make an intraday date range and time series\n",
    "rng = pd.date_range('2012-06-01 09:30', '2012-06-01 15:59', freq='T')\n",
    "# Make a 5-day series of 9:30-15:59 values\n",
    "rng = rng.append([rng + pd.offsets.BDay(i) for i in range(1, 4)])\n",
    "ts = Series(np.arange(len(rng), dtype=float), index=rng)\n",
    "ts"
   ]
  },
  {
   "cell_type": "code",
   "execution_count": null,
   "metadata": {
    "collapsed": false
   },
   "outputs": [],
   "source": [
    "from datetime import time\n",
    "ts[time(10, 0)]"
   ]
  },
  {
   "cell_type": "code",
   "execution_count": null,
   "metadata": {
    "collapsed": false
   },
   "outputs": [],
   "source": [
    "ts.at_time(time(10, 0))"
   ]
  },
  {
   "cell_type": "code",
   "execution_count": null,
   "metadata": {
    "collapsed": false
   },
   "outputs": [],
   "source": [
    "ts.between_time(time(10, 0), time(10, 1))"
   ]
  },
  {
   "cell_type": "code",
   "execution_count": null,
   "metadata": {
    "collapsed": false
   },
   "outputs": [],
   "source": [
    "np.random.seed(12346)"
   ]
  },
  {
   "cell_type": "code",
   "execution_count": 21,
   "metadata": {
    "collapsed": false
   },
   "outputs": [
    {
     "data": {
      "text/plain": [
       "2012-06-01 09:50:00     NaN\n",
       "2012-06-01 09:51:00    21.0\n",
       "2012-06-01 09:52:00     NaN\n",
       "2012-06-01 09:53:00     NaN\n",
       "2012-06-01 09:54:00    24.0\n",
       "2012-06-01 09:55:00     NaN\n",
       "2012-06-01 09:56:00     NaN\n",
       "2012-06-01 09:57:00     NaN\n",
       "2012-06-01 09:58:00     NaN\n",
       "2012-06-01 09:59:00     NaN\n",
       "2012-06-01 10:00:00    30.0\n",
       "dtype: float64"
      ]
     },
     "execution_count": 21,
     "metadata": {},
     "output_type": "execute_result"
    }
   ],
   "source": [
    "# Set most of the time series randomly to NA\n",
    "indexer = np.sort(np.random.permutation(len(ts))[700:])\n",
    "irr_ts = ts.copy()\n",
    "irr_ts[indexer] = np.nan\n",
    "irr_ts['2012-06-01 09:50':'2012-06-01 10:00']"
   ]
  },
  {
   "cell_type": "code",
   "execution_count": null,
   "metadata": {
    "collapsed": false
   },
   "outputs": [],
   "source": [
    "selection = pd.date_range('2012-06-01 10:00', periods=4, freq='B')\n",
    "irr_ts.asof(selection)"
   ]
  },
  {
   "cell_type": "markdown",
   "metadata": {},
   "source": [
    "### Splicing together data sources"
   ]
  },
  {
   "cell_type": "code",
   "execution_count": 22,
   "metadata": {
    "collapsed": false
   },
   "outputs": [
    {
     "data": {
      "text/html": [
       "<div>\n",
       "<table border=\"1\" class=\"dataframe\">\n",
       "  <thead>\n",
       "    <tr style=\"text-align: right;\">\n",
       "      <th></th>\n",
       "      <th>a</th>\n",
       "      <th>b</th>\n",
       "      <th>c</th>\n",
       "    </tr>\n",
       "  </thead>\n",
       "  <tbody>\n",
       "    <tr>\n",
       "      <th>2012-06-12</th>\n",
       "      <td>1.0</td>\n",
       "      <td>1.0</td>\n",
       "      <td>1.0</td>\n",
       "    </tr>\n",
       "    <tr>\n",
       "      <th>2012-06-13</th>\n",
       "      <td>1.0</td>\n",
       "      <td>1.0</td>\n",
       "      <td>1.0</td>\n",
       "    </tr>\n",
       "    <tr>\n",
       "      <th>2012-06-14</th>\n",
       "      <td>1.0</td>\n",
       "      <td>1.0</td>\n",
       "      <td>1.0</td>\n",
       "    </tr>\n",
       "    <tr>\n",
       "      <th>2012-06-15</th>\n",
       "      <td>2.0</td>\n",
       "      <td>2.0</td>\n",
       "      <td>2.0</td>\n",
       "    </tr>\n",
       "    <tr>\n",
       "      <th>2012-06-16</th>\n",
       "      <td>2.0</td>\n",
       "      <td>2.0</td>\n",
       "      <td>2.0</td>\n",
       "    </tr>\n",
       "    <tr>\n",
       "      <th>2012-06-17</th>\n",
       "      <td>2.0</td>\n",
       "      <td>2.0</td>\n",
       "      <td>2.0</td>\n",
       "    </tr>\n",
       "    <tr>\n",
       "      <th>2012-06-18</th>\n",
       "      <td>2.0</td>\n",
       "      <td>2.0</td>\n",
       "      <td>2.0</td>\n",
       "    </tr>\n",
       "  </tbody>\n",
       "</table>\n",
       "</div>"
      ],
      "text/plain": [
       "              a    b    c\n",
       "2012-06-12  1.0  1.0  1.0\n",
       "2012-06-13  1.0  1.0  1.0\n",
       "2012-06-14  1.0  1.0  1.0\n",
       "2012-06-15  2.0  2.0  2.0\n",
       "2012-06-16  2.0  2.0  2.0\n",
       "2012-06-17  2.0  2.0  2.0\n",
       "2012-06-18  2.0  2.0  2.0"
      ]
     },
     "execution_count": 22,
     "metadata": {},
     "output_type": "execute_result"
    }
   ],
   "source": [
    "data1 = DataFrame(np.ones((6, 3), dtype=float),\n",
    "                  columns=['a', 'b', 'c'],\n",
    "                  index=pd.date_range('6/12/2012', periods=6))\n",
    "data2 = DataFrame(np.ones((6, 3), dtype=float) * 2,\n",
    "                  columns=['a', 'b', 'c'],\n",
    "                  index=pd.date_range('6/13/2012', periods=6))\n",
    "spliced = pd.concat([data1.ix[:'2012-06-14'], data2.ix['2012-06-15':]])\n",
    "spliced"
   ]
  },
  {
   "cell_type": "code",
   "execution_count": 23,
   "metadata": {
    "collapsed": false
   },
   "outputs": [
    {
     "data": {
      "text/html": [
       "<div>\n",
       "<table border=\"1\" class=\"dataframe\">\n",
       "  <thead>\n",
       "    <tr style=\"text-align: right;\">\n",
       "      <th></th>\n",
       "      <th>a</th>\n",
       "      <th>b</th>\n",
       "      <th>c</th>\n",
       "      <th>d</th>\n",
       "    </tr>\n",
       "  </thead>\n",
       "  <tbody>\n",
       "    <tr>\n",
       "      <th>2012-06-12</th>\n",
       "      <td>1.0</td>\n",
       "      <td>1.0</td>\n",
       "      <td>1.0</td>\n",
       "      <td>NaN</td>\n",
       "    </tr>\n",
       "    <tr>\n",
       "      <th>2012-06-13</th>\n",
       "      <td>1.0</td>\n",
       "      <td>1.0</td>\n",
       "      <td>1.0</td>\n",
       "      <td>NaN</td>\n",
       "    </tr>\n",
       "    <tr>\n",
       "      <th>2012-06-14</th>\n",
       "      <td>1.0</td>\n",
       "      <td>1.0</td>\n",
       "      <td>1.0</td>\n",
       "      <td>NaN</td>\n",
       "    </tr>\n",
       "    <tr>\n",
       "      <th>2012-06-15</th>\n",
       "      <td>2.0</td>\n",
       "      <td>2.0</td>\n",
       "      <td>2.0</td>\n",
       "      <td>2.0</td>\n",
       "    </tr>\n",
       "    <tr>\n",
       "      <th>2012-06-16</th>\n",
       "      <td>2.0</td>\n",
       "      <td>2.0</td>\n",
       "      <td>2.0</td>\n",
       "      <td>2.0</td>\n",
       "    </tr>\n",
       "    <tr>\n",
       "      <th>2012-06-17</th>\n",
       "      <td>2.0</td>\n",
       "      <td>2.0</td>\n",
       "      <td>2.0</td>\n",
       "      <td>2.0</td>\n",
       "    </tr>\n",
       "    <tr>\n",
       "      <th>2012-06-18</th>\n",
       "      <td>2.0</td>\n",
       "      <td>2.0</td>\n",
       "      <td>2.0</td>\n",
       "      <td>2.0</td>\n",
       "    </tr>\n",
       "  </tbody>\n",
       "</table>\n",
       "</div>"
      ],
      "text/plain": [
       "              a    b    c    d\n",
       "2012-06-12  1.0  1.0  1.0  NaN\n",
       "2012-06-13  1.0  1.0  1.0  NaN\n",
       "2012-06-14  1.0  1.0  1.0  NaN\n",
       "2012-06-15  2.0  2.0  2.0  2.0\n",
       "2012-06-16  2.0  2.0  2.0  2.0\n",
       "2012-06-17  2.0  2.0  2.0  2.0\n",
       "2012-06-18  2.0  2.0  2.0  2.0"
      ]
     },
     "execution_count": 23,
     "metadata": {},
     "output_type": "execute_result"
    }
   ],
   "source": [
    "data2 = DataFrame(np.ones((6, 4), dtype=float) * 2,\n",
    "                  columns=['a', 'b', 'c', 'd'],\n",
    "                  index=pd.date_range('6/13/2012', periods=6))\n",
    "spliced = pd.concat([data1.ix[:'2012-06-14'], data2.ix['2012-06-15':]])\n",
    "spliced"
   ]
  },
  {
   "cell_type": "code",
   "execution_count": 24,
   "metadata": {
    "collapsed": false
   },
   "outputs": [
    {
     "data": {
      "text/html": [
       "<div>\n",
       "<table border=\"1\" class=\"dataframe\">\n",
       "  <thead>\n",
       "    <tr style=\"text-align: right;\">\n",
       "      <th></th>\n",
       "      <th>a</th>\n",
       "      <th>b</th>\n",
       "      <th>c</th>\n",
       "      <th>d</th>\n",
       "    </tr>\n",
       "  </thead>\n",
       "  <tbody>\n",
       "    <tr>\n",
       "      <th>2012-06-12</th>\n",
       "      <td>1.0</td>\n",
       "      <td>1.0</td>\n",
       "      <td>1.0</td>\n",
       "      <td>NaN</td>\n",
       "    </tr>\n",
       "    <tr>\n",
       "      <th>2012-06-13</th>\n",
       "      <td>1.0</td>\n",
       "      <td>1.0</td>\n",
       "      <td>1.0</td>\n",
       "      <td>2.0</td>\n",
       "    </tr>\n",
       "    <tr>\n",
       "      <th>2012-06-14</th>\n",
       "      <td>1.0</td>\n",
       "      <td>1.0</td>\n",
       "      <td>1.0</td>\n",
       "      <td>2.0</td>\n",
       "    </tr>\n",
       "    <tr>\n",
       "      <th>2012-06-15</th>\n",
       "      <td>2.0</td>\n",
       "      <td>2.0</td>\n",
       "      <td>2.0</td>\n",
       "      <td>2.0</td>\n",
       "    </tr>\n",
       "    <tr>\n",
       "      <th>2012-06-16</th>\n",
       "      <td>2.0</td>\n",
       "      <td>2.0</td>\n",
       "      <td>2.0</td>\n",
       "      <td>2.0</td>\n",
       "    </tr>\n",
       "    <tr>\n",
       "      <th>2012-06-17</th>\n",
       "      <td>2.0</td>\n",
       "      <td>2.0</td>\n",
       "      <td>2.0</td>\n",
       "      <td>2.0</td>\n",
       "    </tr>\n",
       "    <tr>\n",
       "      <th>2012-06-18</th>\n",
       "      <td>2.0</td>\n",
       "      <td>2.0</td>\n",
       "      <td>2.0</td>\n",
       "      <td>2.0</td>\n",
       "    </tr>\n",
       "  </tbody>\n",
       "</table>\n",
       "</div>"
      ],
      "text/plain": [
       "              a    b    c    d\n",
       "2012-06-12  1.0  1.0  1.0  NaN\n",
       "2012-06-13  1.0  1.0  1.0  2.0\n",
       "2012-06-14  1.0  1.0  1.0  2.0\n",
       "2012-06-15  2.0  2.0  2.0  2.0\n",
       "2012-06-16  2.0  2.0  2.0  2.0\n",
       "2012-06-17  2.0  2.0  2.0  2.0\n",
       "2012-06-18  2.0  2.0  2.0  2.0"
      ]
     },
     "execution_count": 24,
     "metadata": {},
     "output_type": "execute_result"
    }
   ],
   "source": [
    "spliced_filled = spliced.combine_first(data2)\n",
    "spliced_filled"
   ]
  },
  {
   "cell_type": "code",
   "execution_count": 25,
   "metadata": {
    "collapsed": false
   },
   "outputs": [],
   "source": [
    "spliced.update(data2, overwrite=False)"
   ]
  },
  {
   "cell_type": "code",
   "execution_count": 26,
   "metadata": {
    "collapsed": false
   },
   "outputs": [
    {
     "data": {
      "text/html": [
       "<div>\n",
       "<table border=\"1\" class=\"dataframe\">\n",
       "  <thead>\n",
       "    <tr style=\"text-align: right;\">\n",
       "      <th></th>\n",
       "      <th>a</th>\n",
       "      <th>b</th>\n",
       "      <th>c</th>\n",
       "      <th>d</th>\n",
       "    </tr>\n",
       "  </thead>\n",
       "  <tbody>\n",
       "    <tr>\n",
       "      <th>2012-06-12</th>\n",
       "      <td>1.0</td>\n",
       "      <td>1.0</td>\n",
       "      <td>1.0</td>\n",
       "      <td>NaN</td>\n",
       "    </tr>\n",
       "    <tr>\n",
       "      <th>2012-06-13</th>\n",
       "      <td>1.0</td>\n",
       "      <td>1.0</td>\n",
       "      <td>1.0</td>\n",
       "      <td>2.0</td>\n",
       "    </tr>\n",
       "    <tr>\n",
       "      <th>2012-06-14</th>\n",
       "      <td>1.0</td>\n",
       "      <td>1.0</td>\n",
       "      <td>1.0</td>\n",
       "      <td>2.0</td>\n",
       "    </tr>\n",
       "    <tr>\n",
       "      <th>2012-06-15</th>\n",
       "      <td>2.0</td>\n",
       "      <td>2.0</td>\n",
       "      <td>2.0</td>\n",
       "      <td>2.0</td>\n",
       "    </tr>\n",
       "    <tr>\n",
       "      <th>2012-06-16</th>\n",
       "      <td>2.0</td>\n",
       "      <td>2.0</td>\n",
       "      <td>2.0</td>\n",
       "      <td>2.0</td>\n",
       "    </tr>\n",
       "    <tr>\n",
       "      <th>2012-06-17</th>\n",
       "      <td>2.0</td>\n",
       "      <td>2.0</td>\n",
       "      <td>2.0</td>\n",
       "      <td>2.0</td>\n",
       "    </tr>\n",
       "    <tr>\n",
       "      <th>2012-06-18</th>\n",
       "      <td>2.0</td>\n",
       "      <td>2.0</td>\n",
       "      <td>2.0</td>\n",
       "      <td>2.0</td>\n",
       "    </tr>\n",
       "  </tbody>\n",
       "</table>\n",
       "</div>"
      ],
      "text/plain": [
       "              a    b    c    d\n",
       "2012-06-12  1.0  1.0  1.0  NaN\n",
       "2012-06-13  1.0  1.0  1.0  2.0\n",
       "2012-06-14  1.0  1.0  1.0  2.0\n",
       "2012-06-15  2.0  2.0  2.0  2.0\n",
       "2012-06-16  2.0  2.0  2.0  2.0\n",
       "2012-06-17  2.0  2.0  2.0  2.0\n",
       "2012-06-18  2.0  2.0  2.0  2.0"
      ]
     },
     "execution_count": 26,
     "metadata": {},
     "output_type": "execute_result"
    }
   ],
   "source": [
    "spliced"
   ]
  },
  {
   "cell_type": "code",
   "execution_count": null,
   "metadata": {
    "collapsed": false
   },
   "outputs": [],
   "source": [
    "cp_spliced = spliced.copy()\n",
    "cp_spliced[['a', 'c']] = data1[['a', 'c']]\n",
    "cp_spliced"
   ]
  },
  {
   "cell_type": "markdown",
   "metadata": {},
   "source": [
    "### Return indexes and cumulative returns"
   ]
  },
  {
   "cell_type": "code",
   "execution_count": 28,
   "metadata": {
    "collapsed": false
   },
   "outputs": [
    {
     "ename": "AttributeError",
     "evalue": "module 'pandas' has no attribute 'get_data_yahoo'",
     "output_type": "error",
     "traceback": [
      "\u001b[0;31m---------------------------------------------------------------------------\u001b[0m",
      "\u001b[0;31mAttributeError\u001b[0m                            Traceback (most recent call last)",
      "\u001b[0;32m<ipython-input-28-a61b66a5f11b>\u001b[0m in \u001b[0;36m<module>\u001b[0;34m()\u001b[0m\n\u001b[1;32m      1\u001b[0m \u001b[1;32mimport\u001b[0m \u001b[0mpandas\u001b[0m \u001b[1;32mas\u001b[0m \u001b[0mweb\u001b[0m\u001b[1;33m\u001b[0m\u001b[0m\n\u001b[0;32m----> 2\u001b[0;31m \u001b[0mprice\u001b[0m \u001b[1;33m=\u001b[0m \u001b[0mweb\u001b[0m\u001b[1;33m.\u001b[0m\u001b[0mget_data_yahoo\u001b[0m\u001b[1;33m(\u001b[0m\u001b[1;34m'AAPL'\u001b[0m\u001b[1;33m,\u001b[0m \u001b[1;34m'2011-01-01'\u001b[0m\u001b[1;33m)\u001b[0m\u001b[1;33m[\u001b[0m\u001b[1;34m'Adj Close'\u001b[0m\u001b[1;33m]\u001b[0m\u001b[1;33m\u001b[0m\u001b[0m\n\u001b[0m\u001b[1;32m      3\u001b[0m \u001b[0mprice\u001b[0m\u001b[1;33m[\u001b[0m\u001b[1;33m-\u001b[0m\u001b[1;36m5\u001b[0m\u001b[1;33m:\u001b[0m\u001b[1;33m]\u001b[0m\u001b[1;33m\u001b[0m\u001b[0m\n",
      "\u001b[0;31mAttributeError\u001b[0m: module 'pandas' has no attribute 'get_data_yahoo'"
     ]
    }
   ],
   "source": [
    "import pandas as web\n",
    "price = web.get_data_yahoo('AAPL', '2011-01-01')['Adj Close']\n",
    "price[-5:]"
   ]
  },
  {
   "cell_type": "code",
   "execution_count": null,
   "metadata": {
    "collapsed": false
   },
   "outputs": [],
   "source": [
    "price['2011-10-03'] / price['2011-3-01'] - 1"
   ]
  },
  {
   "cell_type": "code",
   "execution_count": null,
   "metadata": {
    "collapsed": false
   },
   "outputs": [],
   "source": [
    "returns = price.pct_change()\n",
    "ret_index = (1 + returns).cumprod()\n",
    "ret_index[0] = 1  # Set first value to 1\n",
    "ret_index"
   ]
  },
  {
   "cell_type": "code",
   "execution_count": null,
   "metadata": {
    "collapsed": false
   },
   "outputs": [],
   "source": [
    "m_returns = ret_index.resample('BM', how='last').pct_change()\n",
    "m_returns['2012']"
   ]
  },
  {
   "cell_type": "code",
   "execution_count": null,
   "metadata": {
    "collapsed": false
   },
   "outputs": [],
   "source": [
    "m_rets = (1 + returns).resample('M', how='prod', kind='period') - 1\n",
    "m_rets['2012']"
   ]
  },
  {
   "cell_type": "raw",
   "metadata": {},
   "source": [
    "returns[dividend_dates] += dividend_pcts"
   ]
  },
  {
   "cell_type": "markdown",
   "metadata": {},
   "source": [
    "## Group transforms and analysis"
   ]
  },
  {
   "cell_type": "code",
   "execution_count": 29,
   "metadata": {
    "collapsed": false
   },
   "outputs": [],
   "source": [
    "pd.options.display.max_rows = 100\n",
    "pd.options.display.max_columns = 10\n",
    "np.random.seed(12345)"
   ]
  },
  {
   "cell_type": "code",
   "execution_count": 5,
   "metadata": {
    "collapsed": false
   },
   "outputs": [],
   "source": [
    "import random; random.seed(0)\n",
    "import string\n",
    "\n",
    "N = 1000\n",
    "def rands(n):\n",
    "    choices = string.ascii_uppercase\n",
    "    return ''.join([random.choice(choices) for _ in range(n)])\n",
    "tickers = np.array([rands(5) for _ in range(N)])"
   ]
  },
  {
   "cell_type": "code",
   "execution_count": 41,
   "metadata": {
    "collapsed": false
   },
   "outputs": [
    {
     "data": {
      "text/html": [
       "<div>\n",
       "<table border=\"1\" class=\"dataframe\">\n",
       "  <thead>\n",
       "    <tr style=\"text-align: right;\">\n",
       "      <th></th>\n",
       "      <th>Momentum</th>\n",
       "      <th>ShortInterest</th>\n",
       "      <th>Value</th>\n",
       "    </tr>\n",
       "  </thead>\n",
       "  <tbody>\n",
       "    <tr>\n",
       "      <th>MYNBI</th>\n",
       "      <td>0.041229</td>\n",
       "      <td>-0.020805</td>\n",
       "      <td>0.079125</td>\n",
       "    </tr>\n",
       "    <tr>\n",
       "      <th>QPMZJ</th>\n",
       "      <td>0.031481</td>\n",
       "      <td>-0.016888</td>\n",
       "      <td>0.082770</td>\n",
       "    </tr>\n",
       "    <tr>\n",
       "      <th>PLSGQ</th>\n",
       "      <td>0.033004</td>\n",
       "      <td>-0.022567</td>\n",
       "      <td>0.078380</td>\n",
       "    </tr>\n",
       "    <tr>\n",
       "      <th>EJEYD</th>\n",
       "      <td>0.032449</td>\n",
       "      <td>-0.024992</td>\n",
       "      <td>0.066342</td>\n",
       "    </tr>\n",
       "    <tr>\n",
       "      <th>TZIRW</th>\n",
       "      <td>0.029772</td>\n",
       "      <td>-0.018950</td>\n",
       "      <td>0.084676</td>\n",
       "    </tr>\n",
       "    <tr>\n",
       "      <th>ZTEJD</th>\n",
       "      <td>0.029023</td>\n",
       "      <td>-0.019308</td>\n",
       "      <td>0.083652</td>\n",
       "    </tr>\n",
       "    <tr>\n",
       "      <th>XCVKP</th>\n",
       "      <td>0.027749</td>\n",
       "      <td>-0.008760</td>\n",
       "      <td>0.070925</td>\n",
       "    </tr>\n",
       "    <tr>\n",
       "      <th>RDLNK</th>\n",
       "      <td>0.028638</td>\n",
       "      <td>-0.019912</td>\n",
       "      <td>0.080291</td>\n",
       "    </tr>\n",
       "    <tr>\n",
       "      <th>TUGRP</th>\n",
       "      <td>0.030130</td>\n",
       "      <td>-0.024234</td>\n",
       "      <td>0.084503</td>\n",
       "    </tr>\n",
       "    <tr>\n",
       "      <th>OQIBZ</th>\n",
       "      <td>0.024159</td>\n",
       "      <td>-0.022115</td>\n",
       "      <td>0.079864</td>\n",
       "    </tr>\n",
       "    <tr>\n",
       "      <th>RACXM</th>\n",
       "      <td>0.025252</td>\n",
       "      <td>-0.030043</td>\n",
       "      <td>0.079257</td>\n",
       "    </tr>\n",
       "    <tr>\n",
       "      <th>WZVUA</th>\n",
       "      <td>0.019813</td>\n",
       "      <td>-0.011554</td>\n",
       "      <td>0.084957</td>\n",
       "    </tr>\n",
       "    <tr>\n",
       "      <th>TPKHX</th>\n",
       "      <td>0.033626</td>\n",
       "      <td>-0.029134</td>\n",
       "      <td>0.076852</td>\n",
       "    </tr>\n",
       "    <tr>\n",
       "      <th>KWCGS</th>\n",
       "      <td>0.034093</td>\n",
       "      <td>-0.010493</td>\n",
       "      <td>0.067685</td>\n",
       "    </tr>\n",
       "    <tr>\n",
       "      <th>HHZEZ</th>\n",
       "      <td>0.027689</td>\n",
       "      <td>-0.016798</td>\n",
       "      <td>0.085270</td>\n",
       "    </tr>\n",
       "    <tr>\n",
       "      <th>ROCCK</th>\n",
       "      <td>0.028796</td>\n",
       "      <td>-0.008134</td>\n",
       "      <td>0.076732</td>\n",
       "    </tr>\n",
       "    <tr>\n",
       "      <th>QPDJR</th>\n",
       "      <td>0.031499</td>\n",
       "      <td>-0.024263</td>\n",
       "      <td>0.082096</td>\n",
       "    </tr>\n",
       "    <tr>\n",
       "      <th>JWDRK</th>\n",
       "      <td>0.030316</td>\n",
       "      <td>-0.022030</td>\n",
       "      <td>0.078894</td>\n",
       "    </tr>\n",
       "    <tr>\n",
       "      <th>RGZTR</th>\n",
       "      <td>0.032605</td>\n",
       "      <td>-0.016014</td>\n",
       "      <td>0.085415</td>\n",
       "    </tr>\n",
       "    <tr>\n",
       "      <th>SJOCT</th>\n",
       "      <td>0.024806</td>\n",
       "      <td>-0.020321</td>\n",
       "      <td>0.081439</td>\n",
       "    </tr>\n",
       "    <tr>\n",
       "      <th>ZMKSH</th>\n",
       "      <td>0.031526</td>\n",
       "      <td>-0.017427</td>\n",
       "      <td>0.083467</td>\n",
       "    </tr>\n",
       "    <tr>\n",
       "      <th>JFGFB</th>\n",
       "      <td>0.033063</td>\n",
       "      <td>-0.028890</td>\n",
       "      <td>0.082499</td>\n",
       "    </tr>\n",
       "    <tr>\n",
       "      <th>TVIPC</th>\n",
       "      <td>0.026203</td>\n",
       "      <td>-0.021157</td>\n",
       "      <td>0.084203</td>\n",
       "    </tr>\n",
       "    <tr>\n",
       "      <th>CVYEE</th>\n",
       "      <td>0.033875</td>\n",
       "      <td>-0.026235</td>\n",
       "      <td>0.071309</td>\n",
       "    </tr>\n",
       "    <tr>\n",
       "      <th>BCWRV</th>\n",
       "      <td>0.036010</td>\n",
       "      <td>-0.014151</td>\n",
       "      <td>0.085656</td>\n",
       "    </tr>\n",
       "    <tr>\n",
       "      <th>MWQIQ</th>\n",
       "      <td>0.044365</td>\n",
       "      <td>-0.024486</td>\n",
       "      <td>0.081656</td>\n",
       "    </tr>\n",
       "    <tr>\n",
       "      <th>ZHGVS</th>\n",
       "      <td>0.025574</td>\n",
       "      <td>-0.019969</td>\n",
       "      <td>0.083862</td>\n",
       "    </tr>\n",
       "    <tr>\n",
       "      <th>NSIOP</th>\n",
       "      <td>0.030469</td>\n",
       "      <td>-0.020726</td>\n",
       "      <td>0.080022</td>\n",
       "    </tr>\n",
       "    <tr>\n",
       "      <th>VUWZL</th>\n",
       "      <td>0.028970</td>\n",
       "      <td>-0.022533</td>\n",
       "      <td>0.076520</td>\n",
       "    </tr>\n",
       "    <tr>\n",
       "      <th>CKTDP</th>\n",
       "      <td>0.025881</td>\n",
       "      <td>-0.023675</td>\n",
       "      <td>0.084681</td>\n",
       "    </tr>\n",
       "    <tr>\n",
       "      <th>SUKGH</th>\n",
       "      <td>0.028349</td>\n",
       "      <td>-0.024274</td>\n",
       "      <td>0.082055</td>\n",
       "    </tr>\n",
       "    <tr>\n",
       "      <th>AXIDW</th>\n",
       "      <td>0.018765</td>\n",
       "      <td>-0.022868</td>\n",
       "      <td>0.079585</td>\n",
       "    </tr>\n",
       "    <tr>\n",
       "      <th>HLZFK</th>\n",
       "      <td>0.026146</td>\n",
       "      <td>-0.019956</td>\n",
       "      <td>0.076995</td>\n",
       "    </tr>\n",
       "    <tr>\n",
       "      <th>NBDZE</th>\n",
       "      <td>0.037235</td>\n",
       "      <td>-0.025988</td>\n",
       "      <td>0.082006</td>\n",
       "    </tr>\n",
       "    <tr>\n",
       "      <th>WHBSU</th>\n",
       "      <td>0.026374</td>\n",
       "      <td>-0.014682</td>\n",
       "      <td>0.078113</td>\n",
       "    </tr>\n",
       "    <tr>\n",
       "      <th>RTVCA</th>\n",
       "      <td>0.033646</td>\n",
       "      <td>-0.016913</td>\n",
       "      <td>0.091976</td>\n",
       "    </tr>\n",
       "    <tr>\n",
       "      <th>DUGTS</th>\n",
       "      <td>0.020708</td>\n",
       "      <td>-0.016954</td>\n",
       "      <td>0.084704</td>\n",
       "    </tr>\n",
       "    <tr>\n",
       "      <th>DMCLD</th>\n",
       "      <td>0.030799</td>\n",
       "      <td>-0.015700</td>\n",
       "      <td>0.083746</td>\n",
       "    </tr>\n",
       "    <tr>\n",
       "      <th>BTAGF</th>\n",
       "      <td>0.026407</td>\n",
       "      <td>-0.021535</td>\n",
       "      <td>0.072532</td>\n",
       "    </tr>\n",
       "    <tr>\n",
       "      <th>WDPGX</th>\n",
       "      <td>0.026530</td>\n",
       "      <td>-0.015324</td>\n",
       "      <td>0.083494</td>\n",
       "    </tr>\n",
       "    <tr>\n",
       "      <th>ZBVAR</th>\n",
       "      <td>0.036992</td>\n",
       "      <td>-0.017892</td>\n",
       "      <td>0.082379</td>\n",
       "    </tr>\n",
       "    <tr>\n",
       "      <th>NTDIC</th>\n",
       "      <td>0.035440</td>\n",
       "      <td>-0.013601</td>\n",
       "      <td>0.073644</td>\n",
       "    </tr>\n",
       "    <tr>\n",
       "      <th>HCUJL</th>\n",
       "      <td>0.036544</td>\n",
       "      <td>-0.023367</td>\n",
       "      <td>0.071267</td>\n",
       "    </tr>\n",
       "    <tr>\n",
       "      <th>NFBQO</th>\n",
       "      <td>0.023173</td>\n",
       "      <td>-0.025932</td>\n",
       "      <td>0.082142</td>\n",
       "    </tr>\n",
       "    <tr>\n",
       "      <th>BTDWM</th>\n",
       "      <td>0.035494</td>\n",
       "      <td>-0.026607</td>\n",
       "      <td>0.081721</td>\n",
       "    </tr>\n",
       "    <tr>\n",
       "      <th>GILXP</th>\n",
       "      <td>0.030313</td>\n",
       "      <td>-0.018544</td>\n",
       "      <td>0.074002</td>\n",
       "    </tr>\n",
       "    <tr>\n",
       "      <th>SFWVG</th>\n",
       "      <td>0.041840</td>\n",
       "      <td>-0.019064</td>\n",
       "      <td>0.079692</td>\n",
       "    </tr>\n",
       "    <tr>\n",
       "      <th>YBZVF</th>\n",
       "      <td>0.032263</td>\n",
       "      <td>-0.009591</td>\n",
       "      <td>0.080682</td>\n",
       "    </tr>\n",
       "    <tr>\n",
       "      <th>FKQID</th>\n",
       "      <td>0.012592</td>\n",
       "      <td>-0.029669</td>\n",
       "      <td>0.085030</td>\n",
       "    </tr>\n",
       "    <tr>\n",
       "      <th>TOVFA</th>\n",
       "      <td>0.033950</td>\n",
       "      <td>-0.020702</td>\n",
       "      <td>0.081176</td>\n",
       "    </tr>\n",
       "    <tr>\n",
       "      <th>...</th>\n",
       "      <td>...</td>\n",
       "      <td>...</td>\n",
       "      <td>...</td>\n",
       "    </tr>\n",
       "    <tr>\n",
       "      <th>UWQDW</th>\n",
       "      <td>0.033663</td>\n",
       "      <td>-0.017483</td>\n",
       "      <td>0.073720</td>\n",
       "    </tr>\n",
       "    <tr>\n",
       "      <th>YUWGT</th>\n",
       "      <td>0.032622</td>\n",
       "      <td>-0.023038</td>\n",
       "      <td>0.087610</td>\n",
       "    </tr>\n",
       "    <tr>\n",
       "      <th>UTQDI</th>\n",
       "      <td>0.034792</td>\n",
       "      <td>-0.018651</td>\n",
       "      <td>0.086777</td>\n",
       "    </tr>\n",
       "    <tr>\n",
       "      <th>WXTFM</th>\n",
       "      <td>0.025435</td>\n",
       "      <td>-0.014649</td>\n",
       "      <td>0.083842</td>\n",
       "    </tr>\n",
       "    <tr>\n",
       "      <th>CZBAD</th>\n",
       "      <td>0.025853</td>\n",
       "      <td>-0.021085</td>\n",
       "      <td>0.085418</td>\n",
       "    </tr>\n",
       "    <tr>\n",
       "      <th>LXPKD</th>\n",
       "      <td>0.024728</td>\n",
       "      <td>-0.022110</td>\n",
       "      <td>0.077905</td>\n",
       "    </tr>\n",
       "    <tr>\n",
       "      <th>VOLSW</th>\n",
       "      <td>0.028111</td>\n",
       "      <td>-0.012401</td>\n",
       "      <td>0.083957</td>\n",
       "    </tr>\n",
       "    <tr>\n",
       "      <th>IVPZY</th>\n",
       "      <td>0.027250</td>\n",
       "      <td>-0.025353</td>\n",
       "      <td>0.079184</td>\n",
       "    </tr>\n",
       "    <tr>\n",
       "      <th>HFRRC</th>\n",
       "      <td>0.032725</td>\n",
       "      <td>-0.021478</td>\n",
       "      <td>0.089866</td>\n",
       "    </tr>\n",
       "    <tr>\n",
       "      <th>YQFAU</th>\n",
       "      <td>0.031221</td>\n",
       "      <td>-0.024808</td>\n",
       "      <td>0.084900</td>\n",
       "    </tr>\n",
       "    <tr>\n",
       "      <th>FQNTV</th>\n",
       "      <td>0.018281</td>\n",
       "      <td>-0.012704</td>\n",
       "      <td>0.085232</td>\n",
       "    </tr>\n",
       "    <tr>\n",
       "      <th>GOWVM</th>\n",
       "      <td>0.026556</td>\n",
       "      <td>-0.018361</td>\n",
       "      <td>0.078917</td>\n",
       "    </tr>\n",
       "    <tr>\n",
       "      <th>IASEM</th>\n",
       "      <td>0.039752</td>\n",
       "      <td>-0.026806</td>\n",
       "      <td>0.081213</td>\n",
       "    </tr>\n",
       "    <tr>\n",
       "      <th>FOSBM</th>\n",
       "      <td>0.022913</td>\n",
       "      <td>-0.007386</td>\n",
       "      <td>0.069336</td>\n",
       "    </tr>\n",
       "    <tr>\n",
       "      <th>ZCUSM</th>\n",
       "      <td>0.029212</td>\n",
       "      <td>-0.021330</td>\n",
       "      <td>0.084612</td>\n",
       "    </tr>\n",
       "    <tr>\n",
       "      <th>KHQOB</th>\n",
       "      <td>0.027669</td>\n",
       "      <td>-0.019318</td>\n",
       "      <td>0.080554</td>\n",
       "    </tr>\n",
       "    <tr>\n",
       "      <th>PTDIQ</th>\n",
       "      <td>0.032898</td>\n",
       "      <td>-0.028374</td>\n",
       "      <td>0.085663</td>\n",
       "    </tr>\n",
       "    <tr>\n",
       "      <th>PRUMP</th>\n",
       "      <td>0.027972</td>\n",
       "      <td>-0.021194</td>\n",
       "      <td>0.082169</td>\n",
       "    </tr>\n",
       "    <tr>\n",
       "      <th>IFHRL</th>\n",
       "      <td>0.031995</td>\n",
       "      <td>-0.023780</td>\n",
       "      <td>0.078071</td>\n",
       "    </tr>\n",
       "    <tr>\n",
       "      <th>FJTEO</th>\n",
       "      <td>0.031672</td>\n",
       "      <td>-0.025543</td>\n",
       "      <td>0.077520</td>\n",
       "    </tr>\n",
       "    <tr>\n",
       "      <th>CCPMS</th>\n",
       "      <td>0.023391</td>\n",
       "      <td>-0.019229</td>\n",
       "      <td>0.073596</td>\n",
       "    </tr>\n",
       "    <tr>\n",
       "      <th>NRCIP</th>\n",
       "      <td>0.027360</td>\n",
       "      <td>-0.019157</td>\n",
       "      <td>0.070532</td>\n",
       "    </tr>\n",
       "    <tr>\n",
       "      <th>HDJEL</th>\n",
       "      <td>0.030934</td>\n",
       "      <td>-0.025050</td>\n",
       "      <td>0.069145</td>\n",
       "    </tr>\n",
       "    <tr>\n",
       "      <th>ZDEVB</th>\n",
       "      <td>0.035390</td>\n",
       "      <td>-0.023474</td>\n",
       "      <td>0.079351</td>\n",
       "    </tr>\n",
       "    <tr>\n",
       "      <th>VESRG</th>\n",
       "      <td>0.025017</td>\n",
       "      <td>-0.026008</td>\n",
       "      <td>0.084245</td>\n",
       "    </tr>\n",
       "    <tr>\n",
       "      <th>ABMRW</th>\n",
       "      <td>0.026203</td>\n",
       "      <td>-0.028004</td>\n",
       "      <td>0.082253</td>\n",
       "    </tr>\n",
       "    <tr>\n",
       "      <th>YTPWW</th>\n",
       "      <td>0.021651</td>\n",
       "      <td>-0.019700</td>\n",
       "      <td>0.077870</td>\n",
       "    </tr>\n",
       "    <tr>\n",
       "      <th>DPRLY</th>\n",
       "      <td>0.034021</td>\n",
       "      <td>-0.012687</td>\n",
       "      <td>0.074538</td>\n",
       "    </tr>\n",
       "    <tr>\n",
       "      <th>KDVAH</th>\n",
       "      <td>0.027771</td>\n",
       "      <td>-0.011619</td>\n",
       "      <td>0.088245</td>\n",
       "    </tr>\n",
       "    <tr>\n",
       "      <th>HPJIH</th>\n",
       "      <td>0.023566</td>\n",
       "      <td>-0.016703</td>\n",
       "      <td>0.078449</td>\n",
       "    </tr>\n",
       "    <tr>\n",
       "      <th>APLQK</th>\n",
       "      <td>0.030870</td>\n",
       "      <td>-0.021138</td>\n",
       "      <td>0.084841</td>\n",
       "    </tr>\n",
       "    <tr>\n",
       "      <th>CCJSN</th>\n",
       "      <td>0.028888</td>\n",
       "      <td>-0.019996</td>\n",
       "      <td>0.084879</td>\n",
       "    </tr>\n",
       "    <tr>\n",
       "      <th>HXLMY</th>\n",
       "      <td>0.030414</td>\n",
       "      <td>-0.029404</td>\n",
       "      <td>0.066066</td>\n",
       "    </tr>\n",
       "    <tr>\n",
       "      <th>EHJGX</th>\n",
       "      <td>0.035770</td>\n",
       "      <td>-0.021529</td>\n",
       "      <td>0.078614</td>\n",
       "    </tr>\n",
       "    <tr>\n",
       "      <th>YPVZL</th>\n",
       "      <td>0.029893</td>\n",
       "      <td>-0.025949</td>\n",
       "      <td>0.076107</td>\n",
       "    </tr>\n",
       "    <tr>\n",
       "      <th>JMTEY</th>\n",
       "      <td>0.025971</td>\n",
       "      <td>-0.012100</td>\n",
       "      <td>0.078333</td>\n",
       "    </tr>\n",
       "    <tr>\n",
       "      <th>DMLQP</th>\n",
       "      <td>0.027697</td>\n",
       "      <td>-0.017764</td>\n",
       "      <td>0.071305</td>\n",
       "    </tr>\n",
       "    <tr>\n",
       "      <th>HUWLU</th>\n",
       "      <td>0.036918</td>\n",
       "      <td>-0.020922</td>\n",
       "      <td>0.088575</td>\n",
       "    </tr>\n",
       "    <tr>\n",
       "      <th>LNILM</th>\n",
       "      <td>0.031940</td>\n",
       "      <td>-0.021976</td>\n",
       "      <td>0.081051</td>\n",
       "    </tr>\n",
       "    <tr>\n",
       "      <th>YYWJD</th>\n",
       "      <td>0.032239</td>\n",
       "      <td>-0.014853</td>\n",
       "      <td>0.082120</td>\n",
       "    </tr>\n",
       "    <tr>\n",
       "      <th>PJDOE</th>\n",
       "      <td>0.044295</td>\n",
       "      <td>-0.016881</td>\n",
       "      <td>0.084094</td>\n",
       "    </tr>\n",
       "    <tr>\n",
       "      <th>LHXFK</th>\n",
       "      <td>0.032295</td>\n",
       "      <td>-0.022182</td>\n",
       "      <td>0.077384</td>\n",
       "    </tr>\n",
       "    <tr>\n",
       "      <th>PHDVM</th>\n",
       "      <td>0.037676</td>\n",
       "      <td>-0.015492</td>\n",
       "      <td>0.084547</td>\n",
       "    </tr>\n",
       "    <tr>\n",
       "      <th>MOQOS</th>\n",
       "      <td>0.039733</td>\n",
       "      <td>-0.035223</td>\n",
       "      <td>0.078298</td>\n",
       "    </tr>\n",
       "    <tr>\n",
       "      <th>THVMQ</th>\n",
       "      <td>0.025580</td>\n",
       "      <td>-0.025970</td>\n",
       "      <td>0.083637</td>\n",
       "    </tr>\n",
       "    <tr>\n",
       "      <th>JPHKQ</th>\n",
       "      <td>0.036941</td>\n",
       "      <td>-0.015688</td>\n",
       "      <td>0.082349</td>\n",
       "    </tr>\n",
       "    <tr>\n",
       "      <th>VACPK</th>\n",
       "      <td>0.021614</td>\n",
       "      <td>-0.014937</td>\n",
       "      <td>0.083340</td>\n",
       "    </tr>\n",
       "    <tr>\n",
       "      <th>MHNBS</th>\n",
       "      <td>0.028746</td>\n",
       "      <td>-0.009005</td>\n",
       "      <td>0.084535</td>\n",
       "    </tr>\n",
       "    <tr>\n",
       "      <th>YBNCI</th>\n",
       "      <td>0.029178</td>\n",
       "      <td>-0.017952</td>\n",
       "      <td>0.078558</td>\n",
       "    </tr>\n",
       "    <tr>\n",
       "      <th>GXKFD</th>\n",
       "      <td>0.033607</td>\n",
       "      <td>-0.026242</td>\n",
       "      <td>0.081208</td>\n",
       "    </tr>\n",
       "  </tbody>\n",
       "</table>\n",
       "<p>500 rows × 3 columns</p>\n",
       "</div>"
      ],
      "text/plain": [
       "       Momentum  ShortInterest     Value\n",
       "MYNBI  0.041229      -0.020805  0.079125\n",
       "QPMZJ  0.031481      -0.016888  0.082770\n",
       "PLSGQ  0.033004      -0.022567  0.078380\n",
       "EJEYD  0.032449      -0.024992  0.066342\n",
       "TZIRW  0.029772      -0.018950  0.084676\n",
       "ZTEJD  0.029023      -0.019308  0.083652\n",
       "XCVKP  0.027749      -0.008760  0.070925\n",
       "RDLNK  0.028638      -0.019912  0.080291\n",
       "TUGRP  0.030130      -0.024234  0.084503\n",
       "OQIBZ  0.024159      -0.022115  0.079864\n",
       "RACXM  0.025252      -0.030043  0.079257\n",
       "WZVUA  0.019813      -0.011554  0.084957\n",
       "TPKHX  0.033626      -0.029134  0.076852\n",
       "KWCGS  0.034093      -0.010493  0.067685\n",
       "HHZEZ  0.027689      -0.016798  0.085270\n",
       "ROCCK  0.028796      -0.008134  0.076732\n",
       "QPDJR  0.031499      -0.024263  0.082096\n",
       "JWDRK  0.030316      -0.022030  0.078894\n",
       "RGZTR  0.032605      -0.016014  0.085415\n",
       "SJOCT  0.024806      -0.020321  0.081439\n",
       "ZMKSH  0.031526      -0.017427  0.083467\n",
       "JFGFB  0.033063      -0.028890  0.082499\n",
       "TVIPC  0.026203      -0.021157  0.084203\n",
       "CVYEE  0.033875      -0.026235  0.071309\n",
       "BCWRV  0.036010      -0.014151  0.085656\n",
       "MWQIQ  0.044365      -0.024486  0.081656\n",
       "ZHGVS  0.025574      -0.019969  0.083862\n",
       "NSIOP  0.030469      -0.020726  0.080022\n",
       "VUWZL  0.028970      -0.022533  0.076520\n",
       "CKTDP  0.025881      -0.023675  0.084681\n",
       "SUKGH  0.028349      -0.024274  0.082055\n",
       "AXIDW  0.018765      -0.022868  0.079585\n",
       "HLZFK  0.026146      -0.019956  0.076995\n",
       "NBDZE  0.037235      -0.025988  0.082006\n",
       "WHBSU  0.026374      -0.014682  0.078113\n",
       "RTVCA  0.033646      -0.016913  0.091976\n",
       "DUGTS  0.020708      -0.016954  0.084704\n",
       "DMCLD  0.030799      -0.015700  0.083746\n",
       "BTAGF  0.026407      -0.021535  0.072532\n",
       "WDPGX  0.026530      -0.015324  0.083494\n",
       "ZBVAR  0.036992      -0.017892  0.082379\n",
       "NTDIC  0.035440      -0.013601  0.073644\n",
       "HCUJL  0.036544      -0.023367  0.071267\n",
       "NFBQO  0.023173      -0.025932  0.082142\n",
       "BTDWM  0.035494      -0.026607  0.081721\n",
       "GILXP  0.030313      -0.018544  0.074002\n",
       "SFWVG  0.041840      -0.019064  0.079692\n",
       "YBZVF  0.032263      -0.009591  0.080682\n",
       "FKQID  0.012592      -0.029669  0.085030\n",
       "TOVFA  0.033950      -0.020702  0.081176\n",
       "...         ...            ...       ...\n",
       "UWQDW  0.033663      -0.017483  0.073720\n",
       "YUWGT  0.032622      -0.023038  0.087610\n",
       "UTQDI  0.034792      -0.018651  0.086777\n",
       "WXTFM  0.025435      -0.014649  0.083842\n",
       "CZBAD  0.025853      -0.021085  0.085418\n",
       "LXPKD  0.024728      -0.022110  0.077905\n",
       "VOLSW  0.028111      -0.012401  0.083957\n",
       "IVPZY  0.027250      -0.025353  0.079184\n",
       "HFRRC  0.032725      -0.021478  0.089866\n",
       "YQFAU  0.031221      -0.024808  0.084900\n",
       "FQNTV  0.018281      -0.012704  0.085232\n",
       "GOWVM  0.026556      -0.018361  0.078917\n",
       "IASEM  0.039752      -0.026806  0.081213\n",
       "FOSBM  0.022913      -0.007386  0.069336\n",
       "ZCUSM  0.029212      -0.021330  0.084612\n",
       "KHQOB  0.027669      -0.019318  0.080554\n",
       "PTDIQ  0.032898      -0.028374  0.085663\n",
       "PRUMP  0.027972      -0.021194  0.082169\n",
       "IFHRL  0.031995      -0.023780  0.078071\n",
       "FJTEO  0.031672      -0.025543  0.077520\n",
       "CCPMS  0.023391      -0.019229  0.073596\n",
       "NRCIP  0.027360      -0.019157  0.070532\n",
       "HDJEL  0.030934      -0.025050  0.069145\n",
       "ZDEVB  0.035390      -0.023474  0.079351\n",
       "VESRG  0.025017      -0.026008  0.084245\n",
       "ABMRW  0.026203      -0.028004  0.082253\n",
       "YTPWW  0.021651      -0.019700  0.077870\n",
       "DPRLY  0.034021      -0.012687  0.074538\n",
       "KDVAH  0.027771      -0.011619  0.088245\n",
       "HPJIH  0.023566      -0.016703  0.078449\n",
       "APLQK  0.030870      -0.021138  0.084841\n",
       "CCJSN  0.028888      -0.019996  0.084879\n",
       "HXLMY  0.030414      -0.029404  0.066066\n",
       "EHJGX  0.035770      -0.021529  0.078614\n",
       "YPVZL  0.029893      -0.025949  0.076107\n",
       "JMTEY  0.025971      -0.012100  0.078333\n",
       "DMLQP  0.027697      -0.017764  0.071305\n",
       "HUWLU  0.036918      -0.020922  0.088575\n",
       "LNILM  0.031940      -0.021976  0.081051\n",
       "YYWJD  0.032239      -0.014853  0.082120\n",
       "PJDOE  0.044295      -0.016881  0.084094\n",
       "LHXFK  0.032295      -0.022182  0.077384\n",
       "PHDVM  0.037676      -0.015492  0.084547\n",
       "MOQOS  0.039733      -0.035223  0.078298\n",
       "THVMQ  0.025580      -0.025970  0.083637\n",
       "JPHKQ  0.036941      -0.015688  0.082349\n",
       "VACPK  0.021614      -0.014937  0.083340\n",
       "MHNBS  0.028746      -0.009005  0.084535\n",
       "YBNCI  0.029178      -0.017952  0.078558\n",
       "GXKFD  0.033607      -0.026242  0.081208\n",
       "\n",
       "[500 rows x 3 columns]"
      ]
     },
     "execution_count": 41,
     "metadata": {},
     "output_type": "execute_result"
    }
   ],
   "source": [
    "M = 500\n",
    "df = DataFrame({'Momentum' : np.random.randn(M) / 200 + 0.03,\n",
    "                'Value' : np.random.randn(M) / 200 + 0.08,\n",
    "                'ShortInterest' : np.random.randn(M) / 200 - 0.02},\n",
    "                index=tickers[:M])\n",
    "df"
   ]
  },
  {
   "cell_type": "code",
   "execution_count": 38,
   "metadata": {
    "collapsed": false
   },
   "outputs": [
    {
     "data": {
      "text/plain": [
       "MYNBI    FINANCIAL\n",
       "QPMZJ    FINANCIAL\n",
       "PLSGQ    FINANCIAL\n",
       "EJEYD    FINANCIAL\n",
       "TZIRW    FINANCIAL\n",
       "ZTEJD         TECH\n",
       "XCVKP    FINANCIAL\n",
       "RDLNK    FINANCIAL\n",
       "TUGRP         TECH\n",
       "OQIBZ         TECH\n",
       "RACXM    FINANCIAL\n",
       "WZVUA    FINANCIAL\n",
       "TPKHX    FINANCIAL\n",
       "KWCGS    FINANCIAL\n",
       "HHZEZ    FINANCIAL\n",
       "ROCCK         TECH\n",
       "QPDJR    FINANCIAL\n",
       "JWDRK    FINANCIAL\n",
       "RGZTR    FINANCIAL\n",
       "SJOCT    FINANCIAL\n",
       "ZMKSH         TECH\n",
       "JFGFB         TECH\n",
       "TVIPC         TECH\n",
       "CVYEE    FINANCIAL\n",
       "BCWRV    FINANCIAL\n",
       "MWQIQ    FINANCIAL\n",
       "ZHGVS         TECH\n",
       "NSIOP    FINANCIAL\n",
       "VUWZL         TECH\n",
       "CKTDP    FINANCIAL\n",
       "SUKGH         TECH\n",
       "AXIDW         TECH\n",
       "HLZFK    FINANCIAL\n",
       "NBDZE    FINANCIAL\n",
       "WHBSU    FINANCIAL\n",
       "RTVCA    FINANCIAL\n",
       "DUGTS    FINANCIAL\n",
       "DMCLD         TECH\n",
       "BTAGF         TECH\n",
       "WDPGX         TECH\n",
       "ZBVAR         TECH\n",
       "NTDIC         TECH\n",
       "HCUJL    FINANCIAL\n",
       "NFBQO         TECH\n",
       "BTDWM    FINANCIAL\n",
       "GILXP         TECH\n",
       "SFWVG         TECH\n",
       "YBZVF         TECH\n",
       "FKQID    FINANCIAL\n",
       "TOVFA    FINANCIAL\n",
       "           ...    \n",
       "XUZXX    FINANCIAL\n",
       "UMYTA         TECH\n",
       "VGTXP    FINANCIAL\n",
       "NYMFE         TECH\n",
       "VNMOX    FINANCIAL\n",
       "XUXGI         TECH\n",
       "CWFSA    FINANCIAL\n",
       "JXFDE    FINANCIAL\n",
       "IFMIQ         TECH\n",
       "UNKRX    FINANCIAL\n",
       "NPODI         TECH\n",
       "TKIIX    FINANCIAL\n",
       "JMTQA    FINANCIAL\n",
       "PUQQG         TECH\n",
       "NIXUY         TECH\n",
       "NXBAN         TECH\n",
       "RCZIW    FINANCIAL\n",
       "ZAAPV         TECH\n",
       "ZMRLR    FINANCIAL\n",
       "PQORX    FINANCIAL\n",
       "XWPSF         TECH\n",
       "ZSYAT         TECH\n",
       "LGJNC    FINANCIAL\n",
       "HDFZT         TECH\n",
       "OUEPK         TECH\n",
       "OWEPZ    FINANCIAL\n",
       "IPKWQ    FINANCIAL\n",
       "XZHYB    FINANCIAL\n",
       "LQIMR         TECH\n",
       "UTDJE    FINANCIAL\n",
       "QEECK    FINANCIAL\n",
       "GBAPP         TECH\n",
       "CSQBE    FINANCIAL\n",
       "UOSES    FINANCIAL\n",
       "ICJLE    FINANCIAL\n",
       "OLBKD         TECH\n",
       "DTVDJ         TECH\n",
       "VJSLF    FINANCIAL\n",
       "YAVYP    FINANCIAL\n",
       "MMUGC    FINANCIAL\n",
       "NIPNV    FINANCIAL\n",
       "PMENZ         TECH\n",
       "GYNUY    FINANCIAL\n",
       "GICZE    FINANCIAL\n",
       "OKLJZ    FINANCIAL\n",
       "ZOKHF         TECH\n",
       "OEWKZ    FINANCIAL\n",
       "HPEDR         TECH\n",
       "STOXK    FINANCIAL\n",
       "FCVKF    FINANCIAL\n",
       "Name: industry, dtype: object"
      ]
     },
     "execution_count": 38,
     "metadata": {},
     "output_type": "execute_result"
    }
   ],
   "source": [
    "ind_names = np.array(['FINANCIAL', 'TECH'])\n",
    "sampler = np.random.randint(0, len(ind_names), N)\n",
    "industries = Series(ind_names[sampler], index=tickers,\n",
    "                    name='industry')\n",
    "industries"
   ]
  },
  {
   "cell_type": "code",
   "execution_count": 42,
   "metadata": {
    "collapsed": false
   },
   "outputs": [
    {
     "data": {
      "text/html": [
       "<div>\n",
       "<table border=\"1\" class=\"dataframe\">\n",
       "  <thead>\n",
       "    <tr style=\"text-align: right;\">\n",
       "      <th></th>\n",
       "      <th>Momentum</th>\n",
       "      <th>ShortInterest</th>\n",
       "      <th>Value</th>\n",
       "    </tr>\n",
       "    <tr>\n",
       "      <th>industry</th>\n",
       "      <th></th>\n",
       "      <th></th>\n",
       "      <th></th>\n",
       "    </tr>\n",
       "  </thead>\n",
       "  <tbody>\n",
       "    <tr>\n",
       "      <th>FINANCIAL</th>\n",
       "      <td>0.030155</td>\n",
       "      <td>-0.020458</td>\n",
       "      <td>0.080006</td>\n",
       "    </tr>\n",
       "    <tr>\n",
       "      <th>TECH</th>\n",
       "      <td>0.029243</td>\n",
       "      <td>-0.019947</td>\n",
       "      <td>0.079503</td>\n",
       "    </tr>\n",
       "  </tbody>\n",
       "</table>\n",
       "</div>"
      ],
      "text/plain": [
       "           Momentum  ShortInterest     Value\n",
       "industry                                    \n",
       "FINANCIAL  0.030155      -0.020458  0.080006\n",
       "TECH       0.029243      -0.019947  0.079503"
      ]
     },
     "execution_count": 42,
     "metadata": {},
     "output_type": "execute_result"
    }
   ],
   "source": [
    "by_industry = df.groupby(industries)\n",
    "by_industry.mean()"
   ]
  },
  {
   "cell_type": "code",
   "execution_count": null,
   "metadata": {
    "collapsed": false
   },
   "outputs": [],
   "source": [
    "by_industry.describe()"
   ]
  },
  {
   "cell_type": "code",
   "execution_count": null,
   "metadata": {
    "collapsed": false
   },
   "outputs": [],
   "source": [
    "# Within-Industry Standardize\n",
    "def zscore(group):\n",
    "    return (group - group.mean()) / group.std()\n",
    "\n",
    "df_stand = by_industry.apply(zscore)"
   ]
  },
  {
   "cell_type": "code",
   "execution_count": null,
   "metadata": {
    "collapsed": false
   },
   "outputs": [],
   "source": [
    "df_stand.groupby(industries).agg(['mean', 'std'])"
   ]
  },
  {
   "cell_type": "code",
   "execution_count": null,
   "metadata": {
    "collapsed": false
   },
   "outputs": [],
   "source": [
    "# Within-industry rank descending\n",
    "ind_rank = by_industry.rank(ascending=False)\n",
    "ind_rank.groupby(industries).agg(['min', 'max'])"
   ]
  },
  {
   "cell_type": "code",
   "execution_count": null,
   "metadata": {
    "collapsed": false
   },
   "outputs": [],
   "source": [
    "# Industry rank and standardize\n",
    "by_industry.apply(lambda x: zscore(x.rank()))"
   ]
  },
  {
   "cell_type": "markdown",
   "metadata": {},
   "source": [
    "### Group factor exposures"
   ]
  },
  {
   "cell_type": "code",
   "execution_count": 14,
   "metadata": {
    "collapsed": false
   },
   "outputs": [
    {
     "name": "stdout",
     "output_type": "stream",
     "text": [
      "KHQOB    0.738123\n",
      "MRHOG   -0.455999\n",
      "GOKAY    0.734997\n",
      "PZXPR   -0.364489\n",
      "INSQR    0.405306\n",
      "KPNFS    0.419673\n",
      "           ...   \n",
      "YIRFR    0.330463\n",
      "GBZMO    0.173061\n",
      "LXPKD   -0.548340\n",
      "FPAUI    0.985371\n",
      "RFHHN    0.605032\n",
      "GOWVM    0.350921\n",
      "dtype: float64\n",
      "             f1        f2        f3\n",
      "KHQOB  0.413512  0.555164  0.957666\n",
      "MRHOG  0.059176  0.717124  0.484170\n",
      "GOKAY  0.139793  0.527265  0.952451\n",
      "PZXPR  0.145375  0.590434  0.419923\n",
      "INSQR  0.340387  0.516439  0.047980\n",
      "KPNFS  0.460844  0.358106  0.707136\n",
      "...         ...       ...       ...\n",
      "YIRFR  0.214123  0.412756  0.745415\n",
      "GBZMO  0.735286  0.655926  0.488886\n",
      "LXPKD  0.117342  0.742152  0.794844\n",
      "FPAUI  0.618262  0.169578  0.440537\n",
      "RFHHN  0.433308  0.321356  0.862739\n",
      "GOWVM  0.325283  0.274675  0.139075\n",
      "\n",
      "[1000 rows x 3 columns]\n"
     ]
    }
   ],
   "source": [
    "from numpy.random import rand\n",
    "fac1, fac2, fac3 = np.random.rand(3, 1000)\n",
    "\n",
    "#print(len(tickers))\n",
    "\n",
    "ticker_subset = tickers.take(np.random.permutation(N)[:1000])\n",
    "#print(len(ticker_subset))\n",
    "\n",
    "# Weighted sum of factors plus noise\n",
    "port = Series(0.7 * fac1 - 1.2 * fac2 + 0.3 * fac3 + rand(1000),\n",
    "              index=ticker_subset)\n",
    "print(port)\n",
    "factors = DataFrame({'f1': fac1, 'f2': fac2, 'f3': fac3},\n",
    "                    index=ticker_subset)\n",
    "print(factors)"
   ]
  },
  {
   "cell_type": "code",
   "execution_count": 15,
   "metadata": {
    "collapsed": false
   },
   "outputs": [
    {
     "data": {
      "text/plain": [
       "f1    0.388308\n",
       "f2   -0.681925\n",
       "f3    0.181952\n",
       "dtype: float64"
      ]
     },
     "execution_count": 15,
     "metadata": {},
     "output_type": "execute_result"
    }
   ],
   "source": [
    "factors.corrwith(port)"
   ]
  },
  {
   "cell_type": "code",
   "execution_count": null,
   "metadata": {
    "collapsed": false
   },
   "outputs": [],
   "source": [
    "pd.ols(y=port, x=factors).beta"
   ]
  },
  {
   "cell_type": "code",
   "execution_count": null,
   "metadata": {
    "collapsed": false
   },
   "outputs": [],
   "source": [
    "def beta_exposure(chunk, factors=None):\n",
    "    return pd.ols(y=chunk, x=factors).beta"
   ]
  },
  {
   "cell_type": "code",
   "execution_count": null,
   "metadata": {
    "collapsed": false
   },
   "outputs": [],
   "source": [
    "by_ind = port.groupby(industries)\n",
    "exposures = by_ind.apply(beta_exposure, factors=factors)\n",
    "exposures.unstack()"
   ]
  },
  {
   "cell_type": "markdown",
   "metadata": {},
   "source": [
    "### Decile and quartile analysis"
   ]
  },
  {
   "cell_type": "code",
   "execution_count": 24,
   "metadata": {
    "collapsed": false
   },
   "outputs": [
    {
     "name": "stdout",
     "output_type": "stream",
     "text": [
      "<class 'pandas.core.frame.DataFrame'>\n",
      "DatetimeIndex: 2773 entries, 2006-01-03 to 2017-01-06\n",
      "Data columns (total 6 columns):\n",
      "Open         2773 non-null float64\n",
      "High         2773 non-null float64\n",
      "Low          2773 non-null float64\n",
      "Close        2773 non-null float64\n",
      "Volume       2773 non-null int64\n",
      "Adj Close    2773 non-null float64\n",
      "dtypes: float64(5), int64(1)\n",
      "memory usage: 151.6 KB\n"
     ]
    }
   ],
   "source": [
    "import pandas_datareader.data as web\n",
    "data = web.2('SPY', '2006-01-01')\n",
    "data.info()"
   ]
  },
  {
   "cell_type": "code",
   "execution_count": 44,
   "metadata": {
    "collapsed": false
   },
   "outputs": [
    {
     "name": "stdout",
     "output_type": "stream",
     "text": [
      "Date\n",
      "2006-01-03         NaN\n",
      "2006-01-04    0.004736\n",
      "2006-01-05    0.000628\n",
      "2006-01-06    0.008322\n",
      "2006-01-09    0.002569\n",
      "2006-01-10    0.001009\n",
      "                ...   \n",
      "2016-12-29   -0.000223\n",
      "2016-12-30   -0.003655\n",
      "2017-01-03    0.007650\n",
      "2017-01-04    0.005949\n",
      "2017-01-05   -0.000794\n",
      "2017-01-06    0.003578\n",
      "Name: Adj Close, dtype: float64\n"
     ]
    }
   ],
   "source": [
    "px = data['Adj Close']\n",
    "returns = px.pct_change()\n",
    "print(returns)\n",
    "\n",
    "def to_index(rets):\n",
    "    index = (1 + rets).cumprod()\n",
    "    first_loc = max(index.index.get_loc(index.idxmax()) - 1, 0)\n",
    "    index.values[first_loc] = 1\n",
    "    return index\n",
    "\n",
    "def trend_signal(rets, lookback, lag):\n",
    "    signal = rets.rolling(lookback, min_periods=lookback - 5).sum()\n",
    "    return signal.shift(lag)"
   ]
  },
  {
   "cell_type": "code",
   "execution_count": 52,
   "metadata": {
    "collapsed": false,
    "scrolled": true
   },
   "outputs": [
    {
     "name": "stdout",
     "output_type": "stream",
     "text": [
      "Date\n",
      "2006-01-03         NaN\n",
      "2006-01-04         NaN\n",
      "2006-01-05         NaN\n",
      "2006-01-06         NaN\n",
      "2006-01-09         NaN\n",
      "2006-01-10         NaN\n",
      "                ...   \n",
      "2016-12-29    0.055840\n",
      "2016-12-30    0.057257\n",
      "2017-01-03    0.040814\n",
      "2017-01-04    0.041187\n",
      "2017-01-05    0.036935\n",
      "2017-01-06    0.047060\n",
      "Name: Adj Close, dtype: float64\n"
     ]
    },
    {
     "name": "stderr",
     "output_type": "stream",
     "text": [
      "c:\\users\\chu060\\appdata\\local\\programs\\python\\python35-32\\lib\\site-packages\\ipykernel\\__main__.py:3: FutureWarning: \n",
      ".resample() is now a deferred operation\n",
      "You called resample(...) on this deferred object which materialized it into a series\n",
      "by implicitly taking the mean.  Use .resample(...).mean() instead\n",
      "  app.launch_new_instance()\n"
     ]
    },
    {
     "data": {
      "text/plain": [
       "Date\n",
       "2006-01-03         NaN\n",
       "2006-01-04         NaN\n",
       "2006-01-05         NaN\n",
       "2006-01-06         NaN\n",
       "2006-01-09         NaN\n",
       "2006-01-10         NaN\n",
       "                ...   \n",
       "2016-08-11    0.000439\n",
       "2016-08-12   -0.000082\n",
       "2016-08-15    0.000234\n",
       "2016-08-16   -0.000419\n",
       "2016-08-17    0.000153\n",
       "2016-08-18    0.000182\n",
       "Name: Adj Close, dtype: float64"
      ]
     },
     "execution_count": 52,
     "metadata": {},
     "output_type": "execute_result"
    }
   ],
   "source": [
    "signal = trend_signal(returns, 100, 3)\n",
    "trade_friday = signal.resample('W-FRI').resample('B').ffill()\n",
    "trade_rets = trade_friday.shift(1) * returns\n",
    "trade_rets = trade_rets[:len(returns)]"
   ]
  },
  {
   "cell_type": "code",
   "execution_count": 53,
   "metadata": {
    "collapsed": false
   },
   "outputs": [
    {
     "data": {
      "text/plain": [
       "Date\n",
       "2006-01-03         NaN\n",
       "2006-01-04         NaN\n",
       "2006-01-05         NaN\n",
       "2006-01-06         NaN\n",
       "2006-01-09         NaN\n",
       "2006-01-10         NaN\n",
       "                ...   \n",
       "2016-08-11    1.090552\n",
       "2016-08-12    1.090462\n",
       "2016-08-15    1.090718\n",
       "2016-08-16    1.090261\n",
       "2016-08-17    1.090427\n",
       "2016-08-18    1.090626\n",
       "Name: Adj Close, dtype: float64"
      ]
     },
     "execution_count": 53,
     "metadata": {},
     "output_type": "execute_result"
    },
    {
     "data": {
      "image/png": "[encoded data removed]",
      "text/plain": [
       "<matplotlib.figure.Figure at 0x41b07f0>"
      ]
     },
     "metadata": {},
     "output_type": "display_data"
    }
   ],
   "source": [
    "to_index(trade_rets).plot()\n",
    "to_index(trade_rets)"
   ]
  },
  {
   "cell_type": "code",
   "execution_count": null,
   "metadata": {
    "collapsed": false
   },
   "outputs": [],
   "source": [
    "vol = pd.rolling_std(returns, 250, min_periods=200) * np.sqrt(250)\n",
    "\n",
    "def sharpe(rets, ann=250):\n",
    "    return rets.mean() / rets.std()  * np.sqrt(ann)"
   ]
  },
  {
   "cell_type": "code",
   "execution_count": null,
   "metadata": {
    "collapsed": false
   },
   "outputs": [],
   "source": [
    "cats = pd.qcut(vol, 4)\n",
    "print('cats: %d, trade_rets: %d, vol: %d' % (len(cats), len(trade_rets), len(vol)))"
   ]
  },
  {
   "cell_type": "code",
   "execution_count": null,
   "metadata": {
    "collapsed": false
   },
   "outputs": [],
   "source": [
    "trade_rets.groupby(cats).agg(sharpe)"
   ]
  },
  {
   "cell_type": "markdown",
   "metadata": {},
   "source": [
    "## More example applications"
   ]
  },
  {
   "cell_type": "markdown",
   "metadata": {},
   "source": [
    "### Signal frontier analysis"
   ]
  },
  {
   "cell_type": "code",
   "execution_count": null,
   "metadata": {
    "collapsed": false
   },
   "outputs": [],
   "source": [
    "names = ['AAPL', 'GOOG', 'MSFT', 'DELL', 'GS', 'MS', 'BAC', 'C']\n",
    "def get_px(stock, start, end):\n",
    "    return web.get_data_yahoo(stock, start, end)['Adj Close']\n",
    "px = DataFrame({n: get_px(n, None, None) for n in names})"
   ]
  },
  {
   "cell_type": "code",
   "execution_count": null,
   "metadata": {
    "collapsed": false
   },
   "outputs": [],
   "source": [
    "#px = pd.read_csv('ch11/stock_px.csv')"
   ]
  },
  {
   "cell_type": "code",
   "execution_count": null,
   "metadata": {
    "collapsed": false
   },
   "outputs": [],
   "source": [
    "plt.close('all')"
   ]
  },
  {
   "cell_type": "code",
   "execution_count": null,
   "metadata": {
    "collapsed": false
   },
   "outputs": [],
   "source": [
    "px = px.asfreq('B').fillna(method='pad')\n",
    "rets = px.pct_change()\n",
    "((1 + rets).cumprod() - 1).plot()"
   ]
  },
  {
   "cell_type": "code",
   "execution_count": null,
   "metadata": {
    "collapsed": false
   },
   "outputs": [],
   "source": [
    "def calc_mom(price, lookback, lag):\n",
    "    mom_ret = price.shift(lag).pct_change(lookback)\n",
    "    ranks = mom_ret.rank(axis=1, ascending=False)\n",
    "    demeaned = ranks.subtract(ranks.mean(axis=1), axis=0)\n",
    "    return demeaned.divide(demeaned.std(axis=1), axis=0)"
   ]
  },
  {
   "cell_type": "code",
   "execution_count": null,
   "metadata": {
    "collapsed": false
   },
   "outputs": [],
   "source": [
    "compound = lambda x : (1 + x).prod() - 1\n",
    "daily_sr = lambda x: x.mean() / x.std()\n",
    "\n",
    "def strat_sr(prices, lb, hold):\n",
    "    # Compute portfolio weights\n",
    "    freq = '%dB' % hold\n",
    "    port = calc_mom(prices, lb, lag=1)\n",
    "\n",
    "    daily_rets = prices.pct_change()\n",
    "\n",
    "    # Compute portfolio returns\n",
    "    port = port.shift(1).resample(freq, how='first')\n",
    "    returns = daily_rets.resample(freq, how=compound)\n",
    "    port_rets = (port * returns).sum(axis=1)\n",
    "\n",
    "    return daily_sr(port_rets) * np.sqrt(252 / hold)"
   ]
  },
  {
   "cell_type": "code",
   "execution_count": null,
   "metadata": {
    "collapsed": false
   },
   "outputs": [],
   "source": [
    "strat_sr(px, 70, 30)"
   ]
  },
  {
   "cell_type": "code",
   "execution_count": null,
   "metadata": {
    "collapsed": false
   },
   "outputs": [],
   "source": [
    "from collections import defaultdict\n",
    "\n",
    "lookbacks = range(20, 90, 5)\n",
    "holdings = range(20, 90, 5)\n",
    "dd = defaultdict(dict)\n",
    "for lb in lookbacks:\n",
    "    for hold in holdings:\n",
    "        dd[lb][hold] = strat_sr(px, lb, hold)\n",
    "\n",
    "ddf = DataFrame(dd)\n",
    "ddf.index.name = 'Holding Period'\n",
    "ddf.columns.name = 'Lookback Period'"
   ]
  },
  {
   "cell_type": "code",
   "execution_count": null,
   "metadata": {
    "collapsed": false
   },
   "outputs": [],
   "source": [
    "import matplotlib.pyplot as plt\n",
    "\n",
    "def heatmap(df, cmap=plt.cm.gray_r):\n",
    "    fig = plt.figure()\n",
    "    ax = fig.add_subplot(111)\n",
    "    axim = ax.imshow(df.values, cmap=cmap, interpolation='nearest')\n",
    "    ax.set_xlabel(df.columns.name)\n",
    "    ax.set_xticks(np.arange(len(df.columns)))\n",
    "    ax.set_xticklabels(list(df.columns))\n",
    "    ax.set_ylabel(df.index.name)\n",
    "    ax.set_yticks(np.arange(len(df.index)))\n",
    "    ax.set_yticklabels(list(df.index))\n",
    "    plt.colorbar(axim)"
   ]
  },
  {
   "cell_type": "code",
   "execution_count": null,
   "metadata": {
    "collapsed": false
   },
   "outputs": [],
   "source": [
    "heatmap(ddf)"
   ]
  },
  {
   "cell_type": "markdown",
   "metadata": {},
   "source": [
    "### Future contract rolling"
   ]
  },
  {
   "cell_type": "code",
   "execution_count": null,
   "metadata": {
    "collapsed": false
   },
   "outputs": [],
   "source": [
    "pd.options.display.max_rows = 10"
   ]
  },
  {
   "cell_type": "code",
   "execution_count": null,
   "metadata": {
    "collapsed": false
   },
   "outputs": [],
   "source": [
    "import pandas.io.data as web\n",
    "# Approximate price of S&P 500 index\n",
    "px = web.get_data_yahoo('SPY')['Adj Close'] * 10\n",
    "px"
   ]
  },
  {
   "cell_type": "code",
   "execution_count": null,
   "metadata": {
    "collapsed": false
   },
   "outputs": [],
   "source": [
    "from datetime import datetime\n",
    "expiry = {'ESU2': datetime(2012, 9, 21),\n",
    "          'ESZ2': datetime(2012, 12, 21)}\n",
    "expiry = Series(expiry).order()"
   ]
  },
  {
   "cell_type": "code",
   "execution_count": null,
   "metadata": {
    "collapsed": false
   },
   "outputs": [],
   "source": [
    "expiry"
   ]
  },
  {
   "cell_type": "code",
   "execution_count": null,
   "metadata": {
    "collapsed": false
   },
   "outputs": [],
   "source": [
    "np.random.seed(12347)\n",
    "N = 200\n",
    "walk = (np.random.randint(0, 200, size=N) - 100) * 0.25\n",
    "perturb = (np.random.randint(0, 20, size=N) - 10) * 0.25\n",
    "walk = walk.cumsum()\n",
    "\n",
    "rng = pd.date_range(px.index[0], periods=len(px) + N, freq='B')\n",
    "near = np.concatenate([px.values, px.values[-1] + walk])\n",
    "far = np.concatenate([px.values, px.values[-1] + walk + perturb])\n",
    "prices = DataFrame({'ESU2': near, 'ESZ2': far}, index=rng)"
   ]
  },
  {
   "cell_type": "code",
   "execution_count": null,
   "metadata": {
    "collapsed": false
   },
   "outputs": [],
   "source": [
    "prices.tail()"
   ]
  },
  {
   "cell_type": "code",
   "execution_count": null,
   "metadata": {
    "collapsed": false
   },
   "outputs": [],
   "source": [
    "def get_roll_weights(start, expiry, items, roll_periods=5):\n",
    "    # start : first date to compute weighting DataFrame\n",
    "    # expiry : Series of ticker -> expiration dates\n",
    "    # items : sequence of contract names\n",
    "\n",
    "    dates = pd.date_range(start, expiry[-1], freq='B')\n",
    "    weights = DataFrame(np.zeros((len(dates), len(items))),\n",
    "                        index=dates, columns=items)\n",
    "\n",
    "    prev_date = weights.index[0]\n",
    "    for i, (item, ex_date) in enumerate(expiry.iteritems()):\n",
    "        if i < len(expiry) - 1:\n",
    "            weights.ix[prev_date:ex_date - pd.offsets.BDay(), item] = 1\n",
    "            roll_rng = pd.date_range(end=ex_date - pd.offsets.BDay(),\n",
    "                                     periods=roll_periods + 1, freq='B')\n",
    "\n",
    "            decay_weights = np.linspace(0, 1, roll_periods + 1)\n",
    "            weights.ix[roll_rng, item] = 1 - decay_weights\n",
    "            weights.ix[roll_rng, expiry.index[i + 1]] = decay_weights\n",
    "        else:\n",
    "            weights.ix[prev_date:, item] = 1\n",
    "\n",
    "        prev_date = ex_date\n",
    "\n",
    "    return weights"
   ]
  },
  {
   "cell_type": "code",
   "execution_count": null,
   "metadata": {
    "collapsed": false
   },
   "outputs": [],
   "source": [
    "weights = get_roll_weights('6/1/2012', expiry, prices.columns)\n",
    "weights.ix['2012-09-12':'2012-09-21']"
   ]
  },
  {
   "cell_type": "code",
   "execution_count": null,
   "metadata": {
    "collapsed": false
   },
   "outputs": [],
   "source": [
    "rolled_returns = (prices.pct_change() * weights).sum(1)"
   ]
  },
  {
   "cell_type": "markdown",
   "metadata": {},
   "source": [
    "### Rolling correlation and linear regression"
   ]
  },
  {
   "cell_type": "code",
   "execution_count": null,
   "metadata": {
    "collapsed": false
   },
   "outputs": [],
   "source": [
    "aapl = web.get_data_yahoo('AAPL', '2000-01-01')['Adj Close']\n",
    "msft = web.get_data_yahoo('MSFT', '2000-01-01')['Adj Close']\n",
    "\n",
    "aapl_rets = aapl.pct_change()\n",
    "msft_rets = msft.pct_change()"
   ]
  },
  {
   "cell_type": "code",
   "execution_count": null,
   "metadata": {
    "collapsed": false
   },
   "outputs": [],
   "source": [
    "plt.figure()"
   ]
  },
  {
   "cell_type": "code",
   "execution_count": null,
   "metadata": {
    "collapsed": false
   },
   "outputs": [],
   "source": [
    "pd.rolling_corr(aapl_rets, msft_rets, 250).plot()"
   ]
  },
  {
   "cell_type": "code",
   "execution_count": null,
   "metadata": {
    "collapsed": false
   },
   "outputs": [],
   "source": [
    "plt.figure()"
   ]
  },
  {
   "cell_type": "code",
   "execution_count": null,
   "metadata": {
    "collapsed": false
   },
   "outputs": [],
   "source": [
    "model = pd.ols(y=aapl_rets, x={'MSFT': msft_rets}, window=250)\n",
    "model.beta"
   ]
  },
  {
   "cell_type": "code",
   "execution_count": null,
   "metadata": {
    "collapsed": false
   },
   "outputs": [],
   "source": [
    "model.beta['MSFT'].plot()"
   ]
  }
 ],
 "metadata": {
  "kernelspec": {
   "display_name": "Python 3",
   "language": "python",
   "name": "python3"
  },
  "language_info": {
   "codemirror_mode": {
    "name": "ipython",
    "version": 3
   },
   "file_extension": ".py",
   "mimetype": "text/x-python",
   "name": "python",
   "nbconvert_exporter": "python",
   "pygments_lexer": "ipython3",
   "version": "3.5.2"
  }
 },
 "nbformat": 4,
 "nbformat_minor": 0
}
