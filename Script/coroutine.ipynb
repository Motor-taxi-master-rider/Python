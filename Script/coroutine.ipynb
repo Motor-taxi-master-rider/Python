{
 "cells": [
  {
   "cell_type": "markdown",
   "metadata": {},
   "source": [
    "# An introduction to Python yield"
   ]
  },
  {
   "cell_type": "markdown",
   "metadata": {},
   "source": [
    "## WHAT"
   ]
  },
  {
   "cell_type": "markdown",
   "metadata": {},
   "source": [
    "### A function and a generater"
   ]
  },
  {
   "cell_type": "code",
   "execution_count": null,
   "metadata": {
    "collapsed": true,
    "scrolled": true
   },
   "outputs": [],
   "source": [
    "def fun():\n",
    "    return 'fun'\n",
    "\n",
    "def gen():\n",
    "    yield 'gen'"
   ]
  },
  {
   "cell_type": "code",
   "execution_count": null,
   "metadata": {
    "collapsed": true,
    "scrolled": true
   },
   "outputs": [],
   "source": [
    "fun()"
   ]
  },
  {
   "cell_type": "code",
   "execution_count": null,
   "metadata": {
    "collapsed": true,
    "scrolled": true
   },
   "outputs": [],
   "source": [
    "gen()"
   ]
  },
  {
   "cell_type": "markdown",
   "metadata": {},
   "source": [
    "### A range() like example\n"
   ]
  },
  {
   "cell_type": "markdown",
   "metadata": {},
   "source": [
    "**for** ... **in range()** loop is used quite often when iterating objects in `python`.\n",
    "\n",
    "In below example, we made a generator to mock **range()** function."
   ]
  },
  {
   "cell_type": "code",
   "execution_count": 34,
   "metadata": {
    "collapsed": true,
    "scrolled": true
   },
   "outputs": [],
   "source": [
    "def counter(top):\n",
    "    n = 0\n",
    "    while n < top:\n",
    "        yield n\n",
    "        n += 1"
   ]
  },
  {
   "cell_type": "code",
   "execution_count": 35,
   "metadata": {
    "collapsed": false
   },
   "outputs": [
    {
     "name": "stdout",
     "output_type": "stream",
     "text": [
      "0\n",
      "1\n",
      "2\n",
      "3\n",
      "4\n",
      "5\n",
      "6\n",
      "7\n",
      "8\n",
      "9\n"
     ]
    }
   ],
   "source": [
    "for i in counter(10):\n",
    "    print(i)"
   ]
  },
  {
   "cell_type": "markdown",
   "metadata": {},
   "source": [
    "### Under the covers"
   ]
  },
  {
   "cell_type": "markdown",
   "metadata": {},
   "source": [
    "Generator object runs in response to **next()** or **send()**"
   ]
  },
  {
   "cell_type": "code",
   "execution_count": 36,
   "metadata": {
    "collapsed": false
   },
   "outputs": [],
   "source": [
    "def counter_sample(top):\n",
    "    n = 0\n",
    "    while n < top:\n",
    "        print('-> before yield')\n",
    "        yield n\n",
    "        print('-> after yield')\n",
    "        n += 1\n",
    "        \n",
    "c = counter_sample(5)"
   ]
  },
  {
   "cell_type": "code",
   "execution_count": 37,
   "metadata": {
    "collapsed": false,
    "scrolled": true
   },
   "outputs": [
    {
     "name": "stdout",
     "output_type": "stream",
     "text": [
      "-> before yield\n",
      "0\n"
     ]
    }
   ],
   "source": [
    "print(next(c))"
   ]
  },
  {
   "cell_type": "markdown",
   "metadata": {},
   "source": [
    "**StopIteration** raised when function returns"
   ]
  },
  {
   "cell_type": "code",
   "execution_count": 26,
   "metadata": {
    "collapsed": false,
    "scrolled": true
   },
   "outputs": [
    {
     "name": "stdout",
     "output_type": "stream",
     "text": [
      "-> after yield\n",
      "-> before yield\n",
      "5\n"
     ]
    }
   ],
   "source": [
    "print(c.send(None))"
   ]
  },
  {
   "cell_type": "markdown",
   "metadata": {},
   "source": [
    "### Create coroutine with yield"
   ]
  },
  {
   "cell_type": "markdown",
   "metadata": {},
   "source": [
    "You can **send** data to a coroutine."
   ]
  },
  {
   "cell_type": "code",
   "execution_count": 76,
   "metadata": {
    "collapsed": true,
    "scrolled": true
   },
   "outputs": [],
   "source": [
    "def generator():\n",
    "    item = yield\n",
    "    print('item = {}'.format(item))\n",
    "    yield 10"
   ]
  },
  {
   "cell_type": "markdown",
   "metadata": {},
   "source": [
    "**Prime** the coroutine"
   ]
  },
  {
   "cell_type": "code",
   "execution_count": 77,
   "metadata": {
    "collapsed": false,
    "scrolled": true
   },
   "outputs": [],
   "source": [
    "g = generator()\n",
    "g.send(None)"
   ]
  },
  {
   "cell_type": "markdown",
   "metadata": {},
   "source": [
    "<img src=\"generator_send_data.PNG\">"
   ]
  },
  {
   "cell_type": "markdown",
   "metadata": {},
   "source": [
    "Send data"
   ]
  },
  {
   "cell_type": "code",
   "execution_count": 78,
   "metadata": {
    "collapsed": false,
    "scrolled": true
   },
   "outputs": [
    {
     "name": "stdout",
     "output_type": "stream",
     "text": [
      "item = 20\n"
     ]
    }
   ],
   "source": [
    "value = g.send(20)"
   ]
  },
  {
   "cell_type": "code",
   "execution_count": 79,
   "metadata": {
    "collapsed": false
   },
   "outputs": [
    {
     "name": "stdout",
     "output_type": "stream",
     "text": [
      "value = 10\n"
     ]
    }
   ],
   "source": [
    "print('value = {}'.format(value))"
   ]
  },
  {
   "cell_type": "markdown",
   "metadata": {},
   "source": [
    " "
   ]
  },
  {
   "cell_type": "markdown",
   "metadata": {},
   "source": [
    "A coroutine which **receives** data as well as **produces** data"
   ]
  },
  {
   "cell_type": "code",
   "execution_count": null,
   "metadata": {
    "collapsed": true,
    "scrolled": true
   },
   "outputs": [],
   "source": [
    "def averager():\n",
    "    total, count, average = 0.0, 0, None\n",
    "    while True:\n",
    "        term = yield average\n",
    "        total += term\n",
    "        count += 1\n",
    "        average = total / count"
   ]
  },
  {
   "cell_type": "code",
   "execution_count": null,
   "metadata": {
    "collapsed": true,
    "scrolled": true
   },
   "outputs": [],
   "source": [
    "avg = averager()\n",
    "avg.send(None)"
   ]
  },
  {
   "cell_type": "code",
   "execution_count": null,
   "metadata": {
    "collapsed": true,
    "scrolled": true
   },
   "outputs": [],
   "source": [
    "avg.send(10)"
   ]
  },
  {
   "cell_type": "code",
   "execution_count": null,
   "metadata": {
    "collapsed": true,
    "scrolled": true
   },
   "outputs": [],
   "source": [
    "avg.send(20)"
   ]
  },
  {
   "cell_type": "code",
   "execution_count": null,
   "metadata": {
    "collapsed": true,
    "scrolled": true
   },
   "outputs": [],
   "source": [
    "avg.send(30)"
   ]
  },
  {
   "cell_type": "markdown",
   "metadata": {},
   "source": [
    "**Three features of coroutines:**\n",
    "- When a coroutine run into **yield**, it will suspend\n",
    "- A **caller** should **schedule** the coroutine when it suspended\n",
    "- When a coroutine suspended, it will **return control** to the **caller**"
   ]
  },
  {
   "cell_type": "markdown",
   "metadata": {},
   "source": [
    "## WHY"
   ]
  },
  {
   "cell_type": "markdown",
   "metadata": {},
   "source": [
    "### A tornado example"
   ]
  },
  {
   "cell_type": "code",
   "execution_count": null,
   "metadata": {
    "collapsed": true,
    "scrolled": true
   },
   "outputs": [],
   "source": [
    "import time\n",
    "import tornado.ioloop\n",
    "import tornado.web\n",
    "import tornado.gen\n",
    "\n",
    "\n",
    "class BadStupidHandler(tornado.web.RequestHandler):\n",
    "    def get(self):\n",
    "        for i in range(20):\n",
    "            self.write('{}<br>'.format(i))\n",
    "            self.flush()\n",
    "            time.sleep(0.5)\n",
    "\n",
    "\n",
    "class GoodStupidHandler(tornado.web.RequestHandler):\n",
    "    @tornado.gen.coroutine\n",
    "    def get(self):\n",
    "        for i in range(20):\n",
    "            self.write('{}<br>'.format(i))\n",
    "            self.flush()\n",
    "            yield tornado.gen.sleep(0.5)\n",
    "\n",
    "app = tornado.web.Application([\n",
    "     (r'/bad', BadStupidHandler),\n",
    "     (r'/good', GoodStupidHandler)\n",
    "])\n",
    "app.listen(8001)\n",
    "tornado.ioloop.IOLoop.current().start()\n"
   ]
  },
  {
   "cell_type": "markdown",
   "metadata": {},
   "source": [
    "Refer to documentation [Frequently Asked Questions](http://www.tornadoweb.org/en/stable/faq.html)."
   ]
  },
  {
   "cell_type": "markdown",
   "metadata": {},
   "source": [
    "## HOW"
   ]
  },
  {
   "cell_type": "markdown",
   "metadata": {},
   "source": [
    "### Use coroutine to simplfy your context manager"
   ]
  },
  {
   "cell_type": "markdown",
   "metadata": {},
   "source": [
    "A context manager is to change:"
   ]
  },
  {
   "cell_type": "code",
   "execution_count": null,
   "metadata": {
    "collapsed": true,
    "scrolled": true
   },
   "outputs": [],
   "source": [
    "try:\n",
    "    f = open('some.txt')\n",
    "    print(f.readline()) # do something with f\n",
    "finally:\n",
    "    f.close()"
   ]
  },
  {
   "cell_type": "markdown",
   "metadata": {},
   "source": [
    "To:"
   ]
  },
  {
   "cell_type": "code",
   "execution_count": null,
   "metadata": {
    "collapsed": true,
    "scrolled": true
   },
   "outputs": [],
   "source": [
    "with open('some.txt') as f:\n",
    "    print(f.readline()) # do something with f"
   ]
  },
  {
   "cell_type": "markdown",
   "metadata": {},
   "source": [
    "You can define your own context manager with a **class** implements `__enter__` and `__exit__` method"
   ]
  },
  {
   "cell_type": "code",
   "execution_count": null,
   "metadata": {
    "collapsed": true,
    "scrolled": true
   },
   "outputs": [],
   "source": [
    "class Mirror:\n",
    "    def __init__(self, num):\n",
    "        self.num = num\n",
    "    \n",
    "    def __enter__(self):\n",
    "        import sys\n",
    "        \n",
    "        \n",
    "        def reverse_write(text):\n",
    "            self.original_write(text[::-1])\n",
    "        \n",
    "        self.original_write = sys.stdout.write\n",
    "        sys.stdout.write = reverse_write\n",
    "        return 'This is mirror {}'.format(self.num)\n",
    "        \n",
    "    def __exit__(self,exc_type, exc_value, traceback):\n",
    "        import sys\n",
    "        \n",
    "        sys.stdout.write = self.original_write"
   ]
  },
  {
   "cell_type": "code",
   "execution_count": null,
   "metadata": {
    "collapsed": true
   },
   "outputs": [],
   "source": [
    "with Mirror(1000) as first_string:\n",
    "    print(first_string)\n",
    "    print(123456789)\n",
    "print('Out there')"
   ]
  },
  {
   "cell_type": "markdown",
   "metadata": {},
   "source": [
    "Use decorator `contextlib.contextmanager` and `generator` to simplfy your own context manager"
   ]
  },
  {
   "cell_type": "code",
   "execution_count": null,
   "metadata": {
    "collapsed": true,
    "scrolled": true
   },
   "outputs": [],
   "source": [
    "import contextlib\n",
    "\n",
    "@contextlib.contextmanager\n",
    "def Mirror_new(num):\n",
    "    import sys\n",
    "    \n",
    "\n",
    "    def reverse_write(text):\n",
    "        original_write(text[::-1])\n",
    "    \n",
    "    original_write = sys.stdout.write\n",
    "    sys.stdout.write = reverse_write\n",
    "    yield 'This is mirror {}'.format(num)\n",
    "    sys.stdout.write = original_write"
   ]
  },
  {
   "cell_type": "code",
   "execution_count": null,
   "metadata": {
    "collapsed": true,
    "scrolled": true
   },
   "outputs": [],
   "source": [
    "with Mirror_new(1000) as first_string:\n",
    "    print(first_string)\n",
    "    print(123456789)\n",
    "print('Out there')"
   ]
  },
  {
   "cell_type": "markdown",
   "metadata": {},
   "source": [
    "How does it work?"
   ]
  },
  {
   "cell_type": "markdown",
   "metadata": {},
   "source": [
    "We define a warpper class to proxy our generator:"
   ]
  },
  {
   "cell_type": "code",
   "execution_count": null,
   "metadata": {
    "collapsed": true,
    "scrolled": true
   },
   "outputs": [],
   "source": [
    "class  GeneratorCM:        \n",
    "    def __init__(self, func):\n",
    "        self._func = func\n",
    "        \n",
    "    def __call__(self, *args, **kwargs):\n",
    "        self._gen = self._func(*args, **kwargs)\n",
    "        return self\n",
    "        \n",
    "    def __enter__(self):\n",
    "        return self._gen.send(None)\n",
    "    \n",
    "    def __exit__(self,exc_type, exc_value, traceback):\n",
    "        try:\n",
    "            self._gen.send(None)\n",
    "        except StopIteration:\n",
    "            return True"
   ]
  },
  {
   "cell_type": "code",
   "execution_count": null,
   "metadata": {
    "collapsed": true,
    "scrolled": true
   },
   "outputs": [],
   "source": [
    "@GeneratorCM\n",
    "def Mirror_custom(num):\n",
    "    import sys\n",
    "    original_write = sys.stdout.write\n",
    "\n",
    "    def reverse_write(text):\n",
    "        original_write(text[::-1])\n",
    "\n",
    "    sys.stdout.write = reverse_write\n",
    "    yield 'This is mirror {}'.format(num)\n",
    "    sys.stdout.write = original_write"
   ]
  },
  {
   "cell_type": "code",
   "execution_count": null,
   "metadata": {
    "collapsed": true,
    "scrolled": true
   },
   "outputs": [],
   "source": [
    "with Mirror_custom(1000) as first_string:\n",
    "    print(first_string)\n",
    "    print(123456789)\n",
    "print('Out there')"
   ]
  },
  {
   "cell_type": "markdown",
   "metadata": {},
   "source": [
    "GeneratorCM with full try catch is listed below:"
   ]
  },
  {
   "cell_type": "code",
   "execution_count": null,
   "metadata": {
    "collapsed": true,
    "scrolled": true
   },
   "outputs": [],
   "source": [
    "class  GeneratorCM:        \n",
    "    def __init__(self, func):\n",
    "        self._func = func\n",
    "        \n",
    "    def __call__(self, *args, **kwargs):\n",
    "        self._gen = self._func(*args, **kwargs)\n",
    "        return self\n",
    "        \n",
    "    def __enter__(self):\n",
    "        return self._gen.send(None)\n",
    "    \n",
    "    def __exit__(self,exc_type, exc_value, traceback):\n",
    "        try:\n",
    "            if exc_type is None:\n",
    "                next(self._gen)\n",
    "            else:\n",
    "                self._gen.throw(exc_type, exc_value, traceback)\n",
    "                raise RuntimeError(\"Generator didn't stop\")\n",
    "        except StopIteration:\n",
    "                return True\n",
    "        except:\n",
    "                if sys.exc_info()[1] is not exc_value: raise"
   ]
  },
  {
   "cell_type": "markdown",
   "metadata": {},
   "source": [
    "### Inlined yield"
   ]
  },
  {
   "cell_type": "markdown",
   "metadata": {},
   "source": [
    "Following statement is very common in tornado framwork"
   ]
  },
  {
   "cell_type": "code",
   "execution_count": null,
   "metadata": {
    "collapsed": true,
    "scrolled": true
   },
   "outputs": [],
   "source": [
    "from tornado import gen\n",
    "\n",
    "@gen.coroutine\n",
    "def fetch_coroutine(url):\n",
    "    http_client = AsyncHTTPClient()\n",
    "    response = yield http_client.fetch(url)\n",
    "    raise gen.Return(response.body)"
   ]
  },
  {
   "cell_type": "markdown",
   "metadata": {},
   "source": [
    "How does it work?"
   ]
  },
  {
   "cell_type": "markdown",
   "metadata": {},
   "source": [
    "First,define a slow function to mock `http.fetch` :"
   ]
  },
  {
   "cell_type": "code",
   "execution_count": null,
   "metadata": {
    "collapsed": true,
    "scrolled": true
   },
   "outputs": [],
   "source": [
    "import time\n",
    "import random\n",
    "\n",
    "def func(x, y):    \n",
    "    sleep_time = random.random() * 3\n",
    "    time.sleep(sleep_time)\n",
    "    print('sleep for {} seconds'.format(sleep_time))\n",
    "    return x + y"
   ]
  },
  {
   "cell_type": "markdown",
   "metadata": {},
   "source": [
    "We need to our function work like this:"
   ]
  },
  {
   "cell_type": "code",
   "execution_count": null,
   "metadata": {
    "collapsed": true,
    "scrolled": true
   },
   "outputs": [],
   "source": [
    "from concurrent.futures import ThreadPoolExecutor, Future\n",
    "pool = ThreadPoolExecutor(max_workers=8)"
   ]
  },
  {
   "cell_type": "raw",
   "metadata": {},
   "source": [
    "@inlined_future\n",
    "def do_func(x, y):\n",
    "   result = yield pool.submit(func, x, y)\n",
    "   print('Got:', result)"
   ]
  },
  {
   "cell_type": "markdown",
   "metadata": {},
   "source": [
    "Inspired by @contextmanager："
   ]
  },
  {
   "cell_type": "markdown",
   "metadata": {
    "collapsed": true
   },
   "source": [
    "<img src=\"inline_yield.PNG\">"
   ]
  },
  {
   "cell_type": "code",
   "execution_count": null,
   "metadata": {
    "collapsed": true,
    "scrolled": true
   },
   "outputs": [],
   "source": [
    "import wrapt\n",
    "\n",
    "class Task:\n",
    "    def __init__(self, gen):\n",
    "        self._gen = gen\n",
    "        initive = Future()\n",
    "        initive.set_result(None)\n",
    "        self.step(initive)\n",
    "\n",
    "    def step(self, future):\n",
    "        try:\n",
    "            next_future = self._gen.send(future.result())\n",
    "        except StopIteration as exc:\n",
    "            if exc.value is not None:\n",
    "                raise exc\n",
    "        else:\n",
    "            next_future.add_done_callback(self.step)\n",
    "        \n",
    "@wrapt.decorator\n",
    "def inlined_future(wrapped, instance, args, kwargs):\n",
    "    Task(wrapped(*args,**kwargs))"
   ]
  },
  {
   "cell_type": "code",
   "execution_count": null,
   "metadata": {
    "collapsed": true,
    "scrolled": true
   },
   "outputs": [],
   "source": [
    "@inlined_future\n",
    "def do_func(x, y):\n",
    "    result = yield pool.submit(func, x, y)\n",
    "    print('Got:', result)\n",
    "    \n",
    "def do_func_slow(x,y):\n",
    "    result=func(x , y)\n",
    "    print('Got:', result)"
   ]
  },
  {
   "cell_type": "code",
   "execution_count": null,
   "metadata": {
    "collapsed": true
   },
   "outputs": [],
   "source": [
    "for i in range(5):\n",
    "    do_func_slow(i,i)"
   ]
  },
  {
   "cell_type": "code",
   "execution_count": null,
   "metadata": {
    "collapsed": true,
    "scrolled": false
   },
   "outputs": [],
   "source": [
    "for i in range(5):\n",
    "    do_func(i,i)"
   ]
  },
  {
   "cell_type": "markdown",
   "metadata": {},
   "source": [
    "## Additional: How coroutine work"
   ]
  },
  {
   "cell_type": "code",
   "execution_count": null,
   "metadata": {
    "collapsed": true,
    "scrolled": true
   },
   "outputs": [],
   "source": [
    "import dis\n",
    "import inspect\n",
    "\n",
    "def gen_fn():\n",
    "    result = yield 1\n",
    "    print('result of yield: {}'.format(result))\n",
    "    result2 = yield 2\n",
    "    print('result of 2nd yield: {}'.format(result2))\n",
    "    return 'done'\n",
    "\n",
    "def normal_fn():\n",
    "    return 1"
   ]
  },
  {
   "cell_type": "code",
   "execution_count": null,
   "metadata": {
    "collapsed": true
   },
   "outputs": [],
   "source": [
    "a = gen_fn()"
   ]
  },
  {
   "cell_type": "code",
   "execution_count": null,
   "metadata": {
    "collapsed": true
   },
   "outputs": [],
   "source": [
    "a.send(None)"
   ]
  },
  {
   "cell_type": "code",
   "execution_count": null,
   "metadata": {
    "collapsed": true,
    "scrolled": true
   },
   "outputs": [],
   "source": [
    "gen_fn"
   ]
  },
  {
   "cell_type": "code",
   "execution_count": null,
   "metadata": {
    "collapsed": true,
    "scrolled": true
   },
   "outputs": [],
   "source": [
    "normal_fn"
   ]
  },
  {
   "cell_type": "code",
   "execution_count": null,
   "metadata": {
    "collapsed": true,
    "scrolled": true
   },
   "outputs": [],
   "source": [
    "bool(gen_fn.__code__.co_flags & inspect.CO_GENERATOR)"
   ]
  },
  {
   "cell_type": "code",
   "execution_count": null,
   "metadata": {
    "collapsed": true
   },
   "outputs": [],
   "source": [
    "bin(inspect.CO_GENERATOR)"
   ]
  },
  {
   "cell_type": "code",
   "execution_count": null,
   "metadata": {
    "collapsed": true,
    "scrolled": true
   },
   "outputs": [],
   "source": [
    "bool(normal_fn.__code__.co_flags & inspect.CO_GENERATOR)"
   ]
  },
  {
   "cell_type": "code",
   "execution_count": null,
   "metadata": {
    "collapsed": true,
    "scrolled": true
   },
   "outputs": [],
   "source": [
    "gen1 = gen_fn()\n",
    "\n",
    "type(gen1)"
   ]
  },
  {
   "cell_type": "code",
   "execution_count": null,
   "metadata": {
    "collapsed": true,
    "scrolled": true
   },
   "outputs": [],
   "source": [
    "gen1.gi_code.co_name"
   ]
  },
  {
   "cell_type": "markdown",
   "metadata": {},
   "source": [
    "<img src=\"generator_object.PNG\">"
   ]
  },
  {
   "cell_type": "markdown",
   "metadata": {},
   "source": [
    "All generators from calls to gen_fn point to this same code. But each has its own stack frame. This stack frame is not on any actual stack, it sits in heap memory."
   ]
  },
  {
   "cell_type": "code",
   "execution_count": null,
   "metadata": {
    "collapsed": true,
    "scrolled": true
   },
   "outputs": [],
   "source": [
    "gen2 = gen_fn()\n",
    "\n",
    "gen1.gi_code is gen2.gi_code"
   ]
  },
  {
   "cell_type": "code",
   "execution_count": null,
   "metadata": {
    "collapsed": true,
    "scrolled": true
   },
   "outputs": [],
   "source": [
    "gen1.gi_frame is gen2.gi_frame"
   ]
  },
  {
   "cell_type": "code",
   "execution_count": null,
   "metadata": {
    "collapsed": true,
    "scrolled": true
   },
   "outputs": [],
   "source": [
    "gen1.send(None)\n",
    "\n",
    "gen1.gi_frame.f_lasti"
   ]
  },
  {
   "cell_type": "code",
   "execution_count": null,
   "metadata": {
    "collapsed": true,
    "scrolled": true
   },
   "outputs": [],
   "source": [
    "dis.dis(gen1)"
   ]
  },
  {
   "cell_type": "code",
   "execution_count": null,
   "metadata": {
    "collapsed": true,
    "scrolled": true
   },
   "outputs": [],
   "source": [
    "gen1.send('hello')\n",
    "\n",
    "gen1.gi_frame.f_lasti"
   ]
  },
  {
   "cell_type": "code",
   "execution_count": null,
   "metadata": {
    "collapsed": true,
    "scrolled": true
   },
   "outputs": [],
   "source": [
    "gen1.gi_frame.f_locals"
   ]
  },
  {
   "cell_type": "code",
   "execution_count": null,
   "metadata": {
    "collapsed": true,
    "scrolled": true
   },
   "outputs": [],
   "source": [
    "gen1.send('world')"
   ]
  },
  {
   "cell_type": "markdown",
   "metadata": {},
   "source": [
    "## Reference"
   ]
  },
  {
   "cell_type": "markdown",
   "metadata": {
    "collapsed": true
   },
   "source": [
    "1. [Generators: The Final Frontier](http://www.dabeaz.com/finalgenerator/)\n",
    "2. [Effective Python：Consider Coroutines to Run Many Functions Concurrently](http://www.effectivepython.com/2015/03/10/consider-coroutines-to-run-many-functions-concurrently/)\n",
    "3. [Python Cookbook 3: 不用递归实现访问者模式](http://python3-cookbook.readthedocs.io/zh_CN/latest/c08/p22_implementing_visitor_pattern_without_recursion.html)\n",
    "4. [500 line or less:A Web Crawler With asyncio Coroutines](http://aosabook.org/en/500L/a-web-crawler-with-asyncio-coroutines.html)\n",
    "5. [一个简单的文本解析计算器](https://motor-taxi-master-rider.github.io/python/2017/08/31/a-simple-text-complie-calculator-with-coroutine-and-other-tricks)"
   ]
  }
 ],
 "metadata": {
  "kernelspec": {
   "display_name": "Python 3",
   "language": "python",
   "name": "python3"
  },
  "language_info": {
   "codemirror_mode": {
    "name": "ipython",
    "version": 3
   },
   "file_extension": ".py",
   "mimetype": "text/x-python",
   "name": "python",
   "nbconvert_exporter": "python",
   "pygments_lexer": "ipython3",
   "version": "3.5.1"
  }
 },
 "nbformat": 4,
 "nbformat_minor": 2
}
