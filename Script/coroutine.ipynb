{
 "cells": [
  {
   "cell_type": "markdown",
   "metadata": {},
   "source": [
    "# An introduction to Python Coroutine"
   ]
  },
  {
   "cell_type": "markdown",
   "metadata": {},
   "source": [
    "## WHAT"
   ]
  },
  {
   "cell_type": "markdown",
   "metadata": {},
   "source": [
    "### A function and a generater"
   ]
  },
  {
   "cell_type": "code",
   "execution_count": null,
   "metadata": {
    "collapsed": true
   },
   "outputs": [],
   "source": [
    "def fun():\n",
    "    return 'fun'\n",
    "\n",
    "def gen():\n",
    "    yield 'gen'"
   ]
  },
  {
   "cell_type": "code",
   "execution_count": null,
   "metadata": {},
   "outputs": [],
   "source": [
    "fun()"
   ]
  },
  {
   "cell_type": "code",
   "execution_count": null,
   "metadata": {},
   "outputs": [],
   "source": [
    "gen()"
   ]
  },
  {
   "cell_type": "markdown",
   "metadata": {},
   "source": [
    "### Yield to count"
   ]
  },
  {
   "cell_type": "code",
   "execution_count": null,
   "metadata": {
    "collapsed": true
   },
   "outputs": [],
   "source": [
    "def counter():\n",
    "    n = 0\n",
    "    while True:\n",
    "        n += 1`\n",
    "        print('-> before yield')\n",
    "        yield n\n",
    "        print('-> after yield')\n",
    "\n",
    "c = counter()"
   ]
  },
  {
   "cell_type": "code",
   "execution_count": null,
   "metadata": {},
   "outputs": [],
   "source": [
    "print(next(c))"
   ]
  },
  {
   "cell_type": "code",
   "execution_count": null,
   "metadata": {},
   "outputs": [],
   "source": [
    "print(c.send(None))"
   ]
  },
  {
   "cell_type": "markdown",
   "metadata": {},
   "source": [
    "### Create coroutine with yield"
   ]
  },
  {
   "cell_type": "markdown",
   "metadata": {},
   "source": [
    "You can **send** data to a coroutine."
   ]
  },
  {
   "cell_type": "code",
   "execution_count": null,
   "metadata": {
    "collapsed": true
   },
   "outputs": [],
   "source": [
    "def simple_coro():\n",
    "    print('-> coroutine started')\n",
    "    x = yield\n",
    "    print('-> coroutine recived', x)\n",
    "    yield"
   ]
  },
  {
   "cell_type": "markdown",
   "metadata": {},
   "source": [
    "**Prime** the coroutine"
   ]
  },
  {
   "cell_type": "code",
   "execution_count": null,
   "metadata": {
    "collapsed": true
   },
   "outputs": [],
   "source": [
    "simple = simple_coro()"
   ]
  },
  {
   "cell_type": "code",
   "execution_count": null,
   "metadata": {},
   "outputs": [],
   "source": [
    "simple.send(None)"
   ]
  },
  {
   "cell_type": "markdown",
   "metadata": {},
   "source": [
    "Send data"
   ]
  },
  {
   "cell_type": "code",
   "execution_count": null,
   "metadata": {},
   "outputs": [],
   "source": [
    "simple.send(28)"
   ]
  },
  {
   "cell_type": "markdown",
   "metadata": {},
   "source": [
    " "
   ]
  },
  {
   "cell_type": "markdown",
   "metadata": {},
   "source": [
    "A coroutine which **receives** data as well as **produces** data"
   ]
  },
  {
   "cell_type": "code",
   "execution_count": null,
   "metadata": {
    "collapsed": true
   },
   "outputs": [],
   "source": [
    "def averager():\n",
    "    total, count, average = 0.0, 0, None\n",
    "    while True:\n",
    "        term = yield average\n",
    "        total += term\n",
    "        count += 1\n",
    "        average = total / count"
   ]
  },
  {
   "cell_type": "code",
   "execution_count": null,
   "metadata": {
    "collapsed": true
   },
   "outputs": [],
   "source": [
    "avg = averager()\n",
    "next(avg)"
   ]
  },
  {
   "cell_type": "code",
   "execution_count": null,
   "metadata": {},
   "outputs": [],
   "source": [
    "avg.send(10)"
   ]
  },
  {
   "cell_type": "code",
   "execution_count": null,
   "metadata": {},
   "outputs": [],
   "source": [
    "avg.send(20)"
   ]
  },
  {
   "cell_type": "code",
   "execution_count": null,
   "metadata": {},
   "outputs": [],
   "source": [
    "avg.send(30)"
   ]
  },
  {
   "cell_type": "markdown",
   "metadata": {},
   "source": [
    "## WHY"
   ]
  },
  {
   "cell_type": "markdown",
   "metadata": {},
   "source": [
    "### A tornado example"
   ]
  },
  {
   "cell_type": "code",
   "execution_count": null,
   "metadata": {},
   "outputs": [],
   "source": [
    "import time\n",
    "import tornado.ioloop\n",
    "import tornado.web\n",
    "import tornado.gen\n",
    "\n",
    "\n",
    "class BadStupidHandler(tornado.web.RequestHandler):\n",
    "    def get(self):\n",
    "        for i in range(20):\n",
    "            self.write('{}<br>'.format(i))\n",
    "            self.flush()\n",
    "            time.sleep(0.5)\n",
    "\n",
    "\n",
    "class GoodStupidHandler(tornado.web.RequestHandler):\n",
    "    @tornado.gen.coroutine\n",
    "    def get(self):\n",
    "        for i in range(20):\n",
    "            self.write('{}<br>'.format(i))\n",
    "            self.flush()\n",
    "            yield tornado.gen.sleep(0.5)\n",
    "\n",
    "app = tornado.web.Application([\n",
    "     (r'/bad', BadStupidHandler),\n",
    "     (r'/good', GoodStupidHandler)\n",
    "])\n",
    "app.listen(8001)\n",
    "tornado.ioloop.IOLoop.current().start()\n"
   ]
  },
  {
   "cell_type": "markdown",
   "metadata": {},
   "source": [
    "Refer to documentation [Frequently Asked Questions](http://www.tornadoweb.org/en/stable/faq.html)."
   ]
  },
  {
   "cell_type": "markdown",
   "metadata": {},
   "source": [
    "## HOW"
   ]
  },
  {
   "cell_type": "markdown",
   "metadata": {},
   "source": [
    "### Use coroutine to simplfy your context manager"
   ]
  },
  {
   "cell_type": "markdown",
   "metadata": {},
   "source": [
    "A context manager is to change:"
   ]
  },
  {
   "cell_type": "code",
   "execution_count": null,
   "metadata": {},
   "outputs": [],
   "source": [
    "try:\n",
    "    f = open('coroutine.ipynb')\n",
    "    f.readline() # do something with f\n",
    "finally:\n",
    "    f.close()"
   ]
  },
  {
   "cell_type": "markdown",
   "metadata": {},
   "source": [
    "To:"
   ]
  },
  {
   "cell_type": "code",
   "execution_count": null,
   "metadata": {
    "collapsed": true
   },
   "outputs": [],
   "source": [
    "with open('coroutine.ipynb') as f:\n",
    "    f.readline() # do something with f"
   ]
  },
  {
   "cell_type": "markdown",
   "metadata": {},
   "source": [
    "You can define your own context manager with a **class** implements `__enter__` and `__exit__` method"
   ]
  },
  {
   "cell_type": "code",
   "execution_count": null,
   "metadata": {
    "collapsed": true
   },
   "outputs": [],
   "source": [
    "class Mirror:\n",
    "    def __init__(self, num):\n",
    "        self.num = num\n",
    "    \n",
    "    def __enter__(self):\n",
    "        import sys\n",
    "        \n",
    "        self.original_write = sys.stdout.write\n",
    "        sys.stdout.write = self.reverse_write\n",
    "        return 'This is mirror {}'.format(self.num)\n",
    "    \n",
    "    def reverse_write(self, text):\n",
    "        self.original_write(text[::-1])\n",
    "    \n",
    "    def __exit__(self,exc_type, exc_value, traceback):\n",
    "        import sys\n",
    "        \n",
    "        sys.stdout.write = self.original_write"
   ]
  },
  {
   "cell_type": "code",
   "execution_count": null,
   "metadata": {},
   "outputs": [],
   "source": [
    "with Mirror(1000) as first_string:\n",
    "    print(first_string)\n",
    "    print('#',123456789,'#')\n",
    "print('*',123456789,'*')"
   ]
  },
  {
   "cell_type": "code",
   "execution_count": null,
   "metadata": {},
   "outputs": [],
   "source": [
    "with Mirror(1000) as first_string:\n",
    "    print(first_string)\n",
    "    with Mirror(2000) as second_string:\n",
    "        print(second_string)"
   ]
  },
  {
   "cell_type": "markdown",
   "metadata": {},
   "source": [
    "Use decorator `contextlib.contextmanager` and `generator` to simplfy your own context manager"
   ]
  },
  {
   "cell_type": "code",
   "execution_count": null,
   "metadata": {
    "collapsed": true
   },
   "outputs": [],
   "source": [
    "import contextlib\n",
    "\n",
    "@contextlib.contextmanager\n",
    "def Mirror_new(num):\n",
    "    import sys\n",
    "    original_write = sys.stdout.write\n",
    "\n",
    "    def reverse_write(text):\n",
    "        original_write(text[::-1])\n",
    "\n",
    "    sys.stdout.write = reverse_write\n",
    "    yield 'This is mirror {}'.format(num)\n",
    "    sys.stdout.write = original_write"
   ]
  },
  {
   "cell_type": "code",
   "execution_count": null,
   "metadata": {},
   "outputs": [],
   "source": [
    "with Mirror_new(1000) as first_string:\n",
    "    print(first_string)\n",
    "    print(123456789)"
   ]
  },
  {
   "cell_type": "markdown",
   "metadata": {},
   "source": [
    "How does it work?"
   ]
  },
  {
   "cell_type": "markdown",
   "metadata": {},
   "source": [
    "We define a warpper class to proxy our generator:"
   ]
  },
  {
   "cell_type": "code",
   "execution_count": null,
   "metadata": {
    "collapsed": true
   },
   "outputs": [],
   "source": [
    "class  GeneratorCM:        \n",
    "    def __init__(self, gen):\n",
    "        self._gen = gen\n",
    "        \n",
    "    def __call__(self, *args, **kwargs):\n",
    "        self._gen = self._gen(*args, **kwargs)\n",
    "        return self\n",
    "        \n",
    "    def __enter__(self):\n",
    "        return self._gen.send(None)\n",
    "    \n",
    "    def __exit__(self,exc_type, exc_value, traceback):\n",
    "        try:\n",
    "            self._gen.send(None)\n",
    "        except StopIteration:\n",
    "            return True"
   ]
  },
  {
   "cell_type": "code",
   "execution_count": null,
   "metadata": {},
   "outputs": [],
   "source": [
    "@GeneratorCM\n",
    "def Mirror_custom(num):\n",
    "    import sys\n",
    "    original_write = sys.stdout.write\n",
    "\n",
    "    def reverse_write(text):\n",
    "        original_write(text[::-1])\n",
    "\n",
    "    sys.stdout.write = reverse_write\n",
    "    yield 'This is mirror {}'.format(num)\n",
    "    sys.stdout.write = original_write"
   ]
  },
  {
   "cell_type": "code",
   "execution_count": null,
   "metadata": {},
   "outputs": [],
   "source": [
    "with Mirror_custom(1000) as first_string:\n",
    "    print(first_string)\n",
    "    print(123456789)"
   ]
  },
  {
   "cell_type": "markdown",
   "metadata": {},
   "source": [
    "GeneratorCM with full try catch is listed below:"
   ]
  },
  {
   "cell_type": "code",
   "execution_count": null,
   "metadata": {
    "collapsed": true
   },
   "outputs": [],
   "source": [
    "class  GeneratorCM:        \n",
    "    def __init__(self, gen):\n",
    "        self._gen = gen\n",
    "        \n",
    "    def __call__(self, *args, **kwargs):\n",
    "        self._gen = self._gen(*args, **kwargs)\n",
    "        return self\n",
    "        \n",
    "    def __enter__(self):\n",
    "        return self._gen.send(None)\n",
    "    \n",
    "    def __exit__(self,exc_type, exc_value, traceback):\n",
    "        try:\n",
    "            if exc_type is None:\n",
    "                next(self._gen)\n",
    "            else:\n",
    "                self._gen.throw(exc_type, exc_value, traceback)\n",
    "                raise RuntimeError(\"Generator didn't stop\")\n",
    "        except StopIteration:\n",
    "                return True\n",
    "        except:\n",
    "                if sys.exc_info()[1] is not val: raise"
   ]
  },
  {
   "cell_type": "markdown",
   "metadata": {},
   "source": [
    "### Inlined yield"
   ]
  },
  {
   "cell_type": "markdown",
   "metadata": {},
   "source": [
    "Following statement is very common in tornado framwork"
   ]
  },
  {
   "cell_type": "code",
   "execution_count": null,
   "metadata": {
    "collapsed": true
   },
   "outputs": [],
   "source": [
    "from tornado import gen\n",
    "\n",
    "@gen.coroutine\n",
    "def fetch_coroutine(url):\n",
    "    http_client = AsyncHTTPClient()\n",
    "    response = yield http_client.fetch(url)\n",
    "    raise gen.Return(response.body)"
   ]
  },
  {
   "cell_type": "markdown",
   "metadata": {},
   "source": [
    "How does it work?"
   ]
  },
  {
   "cell_type": "markdown",
   "metadata": {},
   "source": [
    "First,define a slow function to mock `http.fetch` :"
   ]
  },
  {
   "cell_type": "code",
   "execution_count": null,
   "metadata": {},
   "outputs": [],
   "source": [
    "def func(x, y):\n",
    "    import time \n",
    "    time.sleep(3)\n",
    "    return x + y"
   ]
  },
  {
   "cell_type": "markdown",
   "metadata": {},
   "source": [
    "We need to our function work like this:"
   ]
  },
  {
   "cell_type": "code",
   "execution_count": null,
   "metadata": {
    "collapsed": true
   },
   "outputs": [],
   "source": [
    "from concurrent.futures import ThreadPoolExecutor\n",
    "pool = ThreadPoolExecutor(max_workers=8)"
   ]
  },
  {
   "cell_type": "raw",
   "metadata": {},
   "source": [
    "@inlined_future\n",
    "def do_func(x, y):\n",
    "   result = yield pool.submit(func, x, y)\n",
    "   print('Got:', result)"
   ]
  },
  {
   "cell_type": "code",
   "execution_count": null,
   "metadata": {
    "collapsed": true
   },
   "outputs": [],
   "source": []
  },
  {
   "cell_type": "markdown",
   "metadata": {},
   "source": [
    "## ADDITINAL"
   ]
  },
  {
   "cell_type": "code",
   "execution_count": null,
   "metadata": {
    "collapsed": true
   },
   "outputs": [],
   "source": []
  }
 ],
 "metadata": {
  "kernelspec": {
   "display_name": "Python 3",
   "language": "python",
   "name": "python3"
  },
  "language_info": {
   "codemirror_mode": {
    "name": "ipython",
    "version": 3
   },
   "file_extension": ".py",
   "mimetype": "text/x-python",
   "name": "python",
   "nbconvert_exporter": "python",
   "pygments_lexer": "ipython3",
   "version": "3.6.2"
  }
 },
 "nbformat": 4,
 "nbformat_minor": 2
}
